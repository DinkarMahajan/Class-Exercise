{
 "cells": [
  {
   "cell_type": "code",
   "execution_count": 1,
   "id": "ce763f84-f76c-42d0-83a6-eee657879da1",
   "metadata": {},
   "outputs": [],
   "source": [
    "# class car is nothing but a template\n",
    "class Car: \n",
    "    pass"
   ]
  },
  {
   "cell_type": "code",
   "execution_count": 3,
   "id": "61a1fbb0-b6f7-42e4-a1ef-ad590474f26f",
   "metadata": {},
   "outputs": [],
   "source": [
    "c1 = Car() #intance/object"
   ]
  },
  {
   "cell_type": "code",
   "execution_count": 5,
   "id": "235d7868-7787-4e3f-b9d4-86481107833b",
   "metadata": {},
   "outputs": [
    {
     "name": "stdout",
     "output_type": "stream",
     "text": [
      "<class '__main__.Car'>\n"
     ]
    }
   ],
   "source": [
    "print(type(c1))"
   ]
  },
  {
   "cell_type": "code",
   "execution_count": 7,
   "id": "8c1f6f3b-3ae3-4a2d-aa22-f04a3393fffd",
   "metadata": {},
   "outputs": [],
   "source": [
    "#why oops\n",
    "# def f1():\n",
    "#     pass\n",
    "\n",
    "# def f6():\n",
    "#     pass\n",
    "\n",
    "# def f4():\n",
    "#     pass\n",
    "\n",
    "# def f2():\n",
    "#     pass\n",
    "\n",
    "# def d5():\n",
    "#     pass\n",
    "\n",
    "# def f3():\n",
    "#     pass\n",
    "\n",
    "#oops helps you to arrange the required functions in respective classes."
   ]
  },
  {
   "cell_type": "code",
   "execution_count": 9,
   "id": "1f814e8c-ed0e-4b04-b1fe-fa80f5fa1229",
   "metadata": {},
   "outputs": [],
   "source": [
    "class Car:\n",
    "    pass"
   ]
  },
  {
   "cell_type": "code",
   "execution_count": 11,
   "id": "f85edfc4-8c1b-478a-8c03-2edd9c8a91ee",
   "metadata": {},
   "outputs": [
    {
     "name": "stdout",
     "output_type": "stream",
     "text": [
      "<class '__main__.Car'>\n"
     ]
    }
   ],
   "source": [
    "c1 = Car()\n",
    "print(type(c1))"
   ]
  },
  {
   "cell_type": "code",
   "execution_count": 21,
   "id": "e02045df-12ba-4ce9-8f3c-6a3c29fb2ec6",
   "metadata": {},
   "outputs": [],
   "source": [
    "class Car:\n",
    "    def accelerate(self):\n",
    "        print(\"Car is accelerating\")"
   ]
  },
  {
   "cell_type": "code",
   "execution_count": 23,
   "id": "1d3b6b0c-31cb-4797-9589-531e4652882a",
   "metadata": {},
   "outputs": [],
   "source": [
    "c1 = Car()"
   ]
  },
  {
   "cell_type": "code",
   "execution_count": 25,
   "id": "1098ae07-7e46-4691-ba0a-32aa3ab0880f",
   "metadata": {},
   "outputs": [
    {
     "name": "stdout",
     "output_type": "stream",
     "text": [
      "Car is accelerating\n"
     ]
    }
   ],
   "source": [
    "c1.accelerate() #it will throw an error"
   ]
  },
  {
   "cell_type": "code",
   "execution_count": 35,
   "id": "92e69c1f-3bf5-4df5-b6b3-278183dc1b22",
   "metadata": {},
   "outputs": [
    {
     "name": "stdout",
     "output_type": "stream",
     "text": [
      "Car is accelerating\n"
     ]
    }
   ],
   "source": [
    "c1 = Car()\n",
    "c1.accelerate()"
   ]
  },
  {
   "cell_type": "code",
   "execution_count": 37,
   "id": "d5ca999e-235d-45bd-ae6f-3ecf4ea90535",
   "metadata": {},
   "outputs": [
    {
     "name": "stdout",
     "output_type": "stream",
     "text": [
      "Car is accelerating\n"
     ]
    }
   ],
   "source": [
    "c2 = Car()\n",
    "c2.accelerate()"
   ]
  },
  {
   "cell_type": "code",
   "execution_count": 39,
   "id": "615e8eef-af83-49e7-b011-78ddcdfa6a96",
   "metadata": {},
   "outputs": [],
   "source": [
    "class Car:\n",
    "    def accelerate(self):\n",
    "        print(\"Car is accelerating\")\n",
    "    def brake(self):\n",
    "        print(\"Car is stopping\")"
   ]
  },
  {
   "cell_type": "code",
   "execution_count": 41,
   "id": "68cf6044-fca0-4b44-881f-b332f32126c0",
   "metadata": {},
   "outputs": [
    {
     "name": "stdout",
     "output_type": "stream",
     "text": [
      "Car is stopping\n"
     ]
    }
   ],
   "source": [
    "c1 = Car()\n",
    "c1.brake()"
   ]
  },
  {
   "cell_type": "code",
   "execution_count": 43,
   "id": "98b1a771-971a-4822-a94c-713366801f33",
   "metadata": {},
   "outputs": [
    {
     "name": "stdout",
     "output_type": "stream",
     "text": [
      "Car is accelerating\n"
     ]
    }
   ],
   "source": [
    "c1.accelerate()"
   ]
  },
  {
   "cell_type": "code",
   "execution_count": 64,
   "id": "9cb8dc8a-036d-48fc-a8e0-3979eb361884",
   "metadata": {},
   "outputs": [],
   "source": [
    "class Bank:\n",
    "    def deposit(self, amount):\n",
    "        print(\"I am depositing the money\")\n",
    "    def withdraw(self, amount_withdraw):\n",
    "        print(\"I am trying to withdraw money.\")"
   ]
  },
  {
   "cell_type": "code",
   "execution_count": 70,
   "id": "5caeb619-c78c-4bc6-90c5-0d50dfb15090",
   "metadata": {},
   "outputs": [
    {
     "name": "stdout",
     "output_type": "stream",
     "text": [
      "I am depositing the money\n"
     ]
    }
   ],
   "source": [
    "c1 = Bank()\n",
    "c1.deposit(100)"
   ]
  },
  {
   "cell_type": "code",
   "execution_count": 72,
   "id": "2253eec2-54fa-4d4c-b19f-37b3ee1b3bc4",
   "metadata": {},
   "outputs": [
    {
     "name": "stdout",
     "output_type": "stream",
     "text": [
      "I am trying to withdraw money.\n"
     ]
    }
   ],
   "source": [
    "c1.withdraw(100)"
   ]
  },
  {
   "cell_type": "code",
   "execution_count": 76,
   "id": "db730c87-39a7-47da-9165-7f590475136f",
   "metadata": {},
   "outputs": [
    {
     "name": "stdout",
     "output_type": "stream",
     "text": [
      "I am depositing the money\n"
     ]
    }
   ],
   "source": [
    "c2 = Bank()\n",
    "c2.deposit(100)"
   ]
  },
  {
   "cell_type": "code",
   "execution_count": 78,
   "id": "ba7ac2fe-e6a1-4120-a110-06d1012a3bc0",
   "metadata": {},
   "outputs": [
    {
     "name": "stdout",
     "output_type": "stream",
     "text": [
      "I am depositing the money\n"
     ]
    }
   ],
   "source": [
    "ajay = Bank()\n",
    "ajay.deposit(1000)"
   ]
  },
  {
   "cell_type": "code",
   "execution_count": 80,
   "id": "0d330072-c4f0-4083-973a-db633696d20c",
   "metadata": {},
   "outputs": [
    {
     "name": "stdout",
     "output_type": "stream",
     "text": [
      "I am trying to withdraw money.\n"
     ]
    }
   ],
   "source": [
    "ajay.withdraw(500)"
   ]
  },
  {
   "cell_type": "code",
   "execution_count": 82,
   "id": "06d2d187-16e4-4443-a637-d4d6da85904b",
   "metadata": {},
   "outputs": [],
   "source": [
    "class Bank:\n",
    "    amount = 1000\n",
    "    def deposit(self, amount):\n",
    "        print(\"I am depositing the money.\")\n",
    "    def withdraw(self, amount_withdraw):\n",
    "        print(\"I am trying to withdraw the money.\")"
   ]
  },
  {
   "cell_type": "code",
   "execution_count": 84,
   "id": "dd437039-111f-4ff7-9d06-be3826aae6c5",
   "metadata": {},
   "outputs": [
    {
     "name": "stdout",
     "output_type": "stream",
     "text": [
      "I am depositing the money.\n"
     ]
    }
   ],
   "source": [
    "ajay = Bank()\n",
    "ajay.deposit(1000)"
   ]
  },
  {
   "cell_type": "code",
   "execution_count": 86,
   "id": "8b9bb3ea-7af1-4b4d-847f-79fac37d696e",
   "metadata": {},
   "outputs": [
    {
     "data": {
      "text/plain": [
       "1000"
      ]
     },
     "execution_count": 86,
     "metadata": {},
     "output_type": "execute_result"
    }
   ],
   "source": [
    "ajay.amount"
   ]
  },
  {
   "cell_type": "code",
   "execution_count": 88,
   "id": "a317e7fa-eca4-4066-a4ba-2ca8a4609286",
   "metadata": {},
   "outputs": [],
   "source": [
    "#extract odd and even nos from a list\n",
    "\n",
    "class ListOops:\n",
    "    l = [1,2,3,4,5]\n",
    "    def extract_even(self, l):\n",
    "        l1 = []\n",
    "        for i in l:\n",
    "            if i%2 == 0:\n",
    "                l1.append(i)\n",
    "        return l1\n",
    "    def extract_odd(self, l):\n",
    "        l1 = []\n",
    "        for i in l:\n",
    "            if i%2 != 0:\n",
    "                l1.append(i)\n",
    "        return l1"
   ]
  },
  {
   "cell_type": "code",
   "execution_count": 92,
   "id": "87f8288a-047f-4a7b-b052-abefca75c3a8",
   "metadata": {},
   "outputs": [],
   "source": [
    "Ops1 = ListOops()"
   ]
  },
  {
   "cell_type": "code",
   "execution_count": 96,
   "id": "012ee306-5f06-4015-8b5a-103a52661d5b",
   "metadata": {},
   "outputs": [
    {
     "data": {
      "text/plain": [
       "[1, 2, 3, 4, 5]"
      ]
     },
     "execution_count": 96,
     "metadata": {},
     "output_type": "execute_result"
    }
   ],
   "source": [
    "Ops1.l"
   ]
  },
  {
   "cell_type": "code",
   "execution_count": 98,
   "id": "e790a4d9-0890-416a-892e-1844d7fe5f10",
   "metadata": {},
   "outputs": [
    {
     "data": {
      "text/plain": [
       "[2, 4]"
      ]
     },
     "execution_count": 98,
     "metadata": {},
     "output_type": "execute_result"
    }
   ],
   "source": [
    "Ops1.extract_even(Ops1.l)"
   ]
  },
  {
   "cell_type": "code",
   "execution_count": 100,
   "id": "498c33e0-3d93-4f9a-955b-ffaf965c35d8",
   "metadata": {},
   "outputs": [
    {
     "data": {
      "text/plain": [
       "[1, 3, 5]"
      ]
     },
     "execution_count": 100,
     "metadata": {},
     "output_type": "execute_result"
    }
   ],
   "source": [
    "Ops1.extract_odd(Ops1.l)"
   ]
  },
  {
   "cell_type": "code",
   "execution_count": 102,
   "id": "38e23308-05ec-4c46-8ce4-14df1684e8c6",
   "metadata": {},
   "outputs": [
    {
     "data": {
      "text/plain": [
       "[11]"
      ]
     },
     "execution_count": 102,
     "metadata": {},
     "output_type": "execute_result"
    }
   ],
   "source": [
    "Ops1.extract_odd([8,11,12,14])"
   ]
  },
  {
   "cell_type": "code",
   "execution_count": 106,
   "id": "6984029f-cd21-4c3e-b424-feae87ff015f",
   "metadata": {},
   "outputs": [
    {
     "data": {
      "text/plain": [
       "[1, 2, 3, 4, 5]"
      ]
     },
     "execution_count": 106,
     "metadata": {},
     "output_type": "execute_result"
    }
   ],
   "source": [
    "Ops1.l"
   ]
  },
  {
   "cell_type": "code",
   "execution_count": 135,
   "id": "7b22647a-9531-43de-bdf6-c19f7236891d",
   "metadata": {},
   "outputs": [],
   "source": [
    "#extract odd and even nos from a list\n",
    "\n",
    "class ListOops:\n",
    "    def __init__(self, l): #magic method/dunder method\n",
    "        self.l = l\n",
    "    def extract_even(self):\n",
    "        l = self.l\n",
    "        l1 = []\n",
    "        for i in l:\n",
    "            if i%2 == 0:\n",
    "                l1.append(i)\n",
    "        return l1\n",
    "    def extract_odd(self):\n",
    "        l = self.l\n",
    "        l1 = []\n",
    "        for i in l:\n",
    "            if i%2 != 0:\n",
    "                l1.append(i)\n",
    "        return l1"
   ]
  },
  {
   "cell_type": "code",
   "execution_count": 137,
   "id": "1505ed4e-2a05-438c-9107-05c7461e349f",
   "metadata": {},
   "outputs": [],
   "source": [
    "Ops1 = ListOops([1,2,3,4,5])"
   ]
  },
  {
   "cell_type": "code",
   "execution_count": 139,
   "id": "ee3a0388-10e6-4ada-8656-ebc1b1855840",
   "metadata": {},
   "outputs": [
    {
     "data": {
      "text/plain": [
       "[1, 2, 3, 4, 5]"
      ]
     },
     "execution_count": 139,
     "metadata": {},
     "output_type": "execute_result"
    }
   ],
   "source": [
    "Ops1.l"
   ]
  },
  {
   "cell_type": "code",
   "execution_count": 141,
   "id": "8dba6134-0114-41e5-921b-5a005870c44a",
   "metadata": {},
   "outputs": [
    {
     "data": {
      "text/plain": [
       "[1, 9, 11]"
      ]
     },
     "execution_count": 141,
     "metadata": {},
     "output_type": "execute_result"
    }
   ],
   "source": [
    "Ops1 = ListOops([1,8,9,11,12])\n",
    "Ops1.extract_odd()"
   ]
  },
  {
   "cell_type": "code",
   "execution_count": 143,
   "id": "9165eb12-c7b8-4ea9-bad7-f72f2c2a9aac",
   "metadata": {},
   "outputs": [
    {
     "data": {
      "text/plain": [
       "[8, 12]"
      ]
     },
     "execution_count": 143,
     "metadata": {},
     "output_type": "execute_result"
    }
   ],
   "source": [
    "Ops1.extract_even()"
   ]
  },
  {
   "cell_type": "code",
   "execution_count": null,
   "id": "1d7ea583-e352-4c51-9cd3-5db0fc4d4e58",
   "metadata": {},
   "outputs": [],
   "source": []
  },
  {
   "cell_type": "code",
   "execution_count": null,
   "id": "48bbcd64-e219-46cb-a275-cf5049598db1",
   "metadata": {},
   "outputs": [],
   "source": []
  }
 ],
 "metadata": {
  "kernelspec": {
   "display_name": "Python 3 (ipykernel)",
   "language": "python",
   "name": "python3"
  },
  "language_info": {
   "codemirror_mode": {
    "name": "ipython",
    "version": 3
   },
   "file_extension": ".py",
   "mimetype": "text/x-python",
   "name": "python",
   "nbconvert_exporter": "python",
   "pygments_lexer": "ipython3",
   "version": "3.12.7"
  }
 },
 "nbformat": 4,
 "nbformat_minor": 5
}
