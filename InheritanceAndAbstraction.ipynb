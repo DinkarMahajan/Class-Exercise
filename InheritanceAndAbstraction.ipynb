{
 "cells": [
  {
   "cell_type": "code",
   "execution_count": 1,
   "id": "15765f27-f480-4ae1-a7d2-7d80f8b6da36",
   "metadata": {},
   "outputs": [],
   "source": [
    "#Inheritance"
   ]
  },
  {
   "cell_type": "code",
   "execution_count": 3,
   "id": "60bd5c84-6e79-4200-af4c-d6e3c8c54990",
   "metadata": {},
   "outputs": [],
   "source": [
    "# class BaseClass:\n",
    "#     #body of base class\n",
    "\n",
    "# class DerivedClass(BaseClass):\n",
    "#     #body of derived class"
   ]
  },
  {
   "cell_type": "code",
   "execution_count": 5,
   "id": "f7c9f46c-3b9f-4df0-a229-d092693ff02f",
   "metadata": {},
   "outputs": [],
   "source": [
    "class Father:\n",
    "    def father_property(self):\n",
    "        print(\"This is father's property\")"
   ]
  },
  {
   "cell_type": "code",
   "execution_count": 7,
   "id": "d470b944-ba99-413f-8229-3b0bb619f0ca",
   "metadata": {},
   "outputs": [],
   "source": [
    "class Son(Father):\n",
    "    def job(self):\n",
    "        print(\"Son has property from job.\")"
   ]
  },
  {
   "cell_type": "code",
   "execution_count": 9,
   "id": "ae901e40-1048-4fd8-93ad-12b0eb108ee8",
   "metadata": {},
   "outputs": [],
   "source": [
    "child_obj = Son() #object/instance of son class"
   ]
  },
  {
   "cell_type": "code",
   "execution_count": 11,
   "id": "368ef8c8-4bd1-438a-b314-5c90f5262d91",
   "metadata": {},
   "outputs": [
    {
     "name": "stdout",
     "output_type": "stream",
     "text": [
      "Son has property from job.\n"
     ]
    }
   ],
   "source": [
    "child_obj.job()"
   ]
  },
  {
   "cell_type": "code",
   "execution_count": 13,
   "id": "6118ebdb-ed8c-44f7-b3bc-a7891fba4ab8",
   "metadata": {},
   "outputs": [
    {
     "name": "stdout",
     "output_type": "stream",
     "text": [
      "This is father's property\n"
     ]
    }
   ],
   "source": [
    "child_obj.father_property()"
   ]
  },
  {
   "cell_type": "code",
   "execution_count": 15,
   "id": "1d7644da-85e7-4172-987c-b2867dfdf7f5",
   "metadata": {},
   "outputs": [
    {
     "name": "stdout",
     "output_type": "stream",
     "text": [
      "This is father's property\n"
     ]
    }
   ],
   "source": [
    "father_obj = Father()\n",
    "father_obj.father_property()"
   ]
  },
  {
   "cell_type": "code",
   "execution_count": 19,
   "id": "7c118cd8-4daa-4cb4-b723-b39fe0283e99",
   "metadata": {},
   "outputs": [
    {
     "ename": "AttributeError",
     "evalue": "'Father' object has no attribute 'job'",
     "output_type": "error",
     "traceback": [
      "\u001b[1;31m---------------------------------------------------------------------------\u001b[0m",
      "\u001b[1;31mAttributeError\u001b[0m                            Traceback (most recent call last)",
      "Cell \u001b[1;32mIn[19], line 1\u001b[0m\n\u001b[1;32m----> 1\u001b[0m father_obj\u001b[38;5;241m.\u001b[39mjob()\n",
      "\u001b[1;31mAttributeError\u001b[0m: 'Father' object has no attribute 'job'"
     ]
    }
   ],
   "source": [
    "father_obj.job() #it will throw an error"
   ]
  },
  {
   "cell_type": "code",
   "execution_count": 25,
   "id": "90020c21-e250-42ae-b21b-4caa77440877",
   "metadata": {},
   "outputs": [],
   "source": [
    "class Fruit:\n",
    "    def fruit_info(self):\n",
    "        print(\"Inside Parent class\")\n",
    "class Apple(Fruit):\n",
    "    def apple_info(self):\n",
    "        print(\"Inside the child class\")"
   ]
  },
  {
   "cell_type": "code",
   "execution_count": 27,
   "id": "866bf236-3ac6-4c6a-ae16-c9f6383b822e",
   "metadata": {},
   "outputs": [
    {
     "name": "stdout",
     "output_type": "stream",
     "text": [
      "Inside the child class\n"
     ]
    }
   ],
   "source": [
    "obj = Apple()\n",
    "obj.apple_info()"
   ]
  },
  {
   "cell_type": "code",
   "execution_count": 29,
   "id": "324ad175-9b71-4ead-b4dd-e454bb86be81",
   "metadata": {},
   "outputs": [
    {
     "name": "stdout",
     "output_type": "stream",
     "text": [
      "Inside Parent class\n"
     ]
    }
   ],
   "source": [
    "obj.fruit_info()"
   ]
  },
  {
   "cell_type": "code",
   "execution_count": 31,
   "id": "6ab9d733-451b-44d1-aa59-aeb9068ce5df",
   "metadata": {},
   "outputs": [
    {
     "name": "stdout",
     "output_type": "stream",
     "text": [
      "Inside Parent class\n"
     ]
    }
   ],
   "source": [
    "par = Fruit()\n",
    "par.fruit_info()"
   ]
  },
  {
   "cell_type": "code",
   "execution_count": 33,
   "id": "0f5ef7c9-f495-4193-ad9d-e341d53b9318",
   "metadata": {},
   "outputs": [
    {
     "ename": "AttributeError",
     "evalue": "'Fruit' object has no attribute 'apple_info'",
     "output_type": "error",
     "traceback": [
      "\u001b[1;31m---------------------------------------------------------------------------\u001b[0m",
      "\u001b[1;31mAttributeError\u001b[0m                            Traceback (most recent call last)",
      "Cell \u001b[1;32mIn[33], line 1\u001b[0m\n\u001b[1;32m----> 1\u001b[0m par\u001b[38;5;241m.\u001b[39mapple_info()\n",
      "\u001b[1;31mAttributeError\u001b[0m: 'Fruit' object has no attribute 'apple_info'"
     ]
    }
   ],
   "source": [
    "par.apple_info()"
   ]
  },
  {
   "cell_type": "code",
   "execution_count": 39,
   "id": "dcb90eaa-fcd3-4aa1-983d-00b922b733c0",
   "metadata": {},
   "outputs": [],
   "source": [
    "class Fruit:\n",
    "    def fruit_info(self):\n",
    "        print(\"Inside Parent class\")\n",
    "class Apple(Fruit):\n",
    "    def fruit_info(self):\n",
    "        print(\"Inside the child class(fruit info)\")\n",
    "    def apple_info(self):\n",
    "        print(\"Inside the child class\")"
   ]
  },
  {
   "cell_type": "code",
   "execution_count": 41,
   "id": "084da398-ecf3-455a-85aa-41611e1be811",
   "metadata": {},
   "outputs": [
    {
     "name": "stdout",
     "output_type": "stream",
     "text": [
      "Inside the child class\n"
     ]
    }
   ],
   "source": [
    "obj = Apple()\n",
    "obj.apple_info()"
   ]
  },
  {
   "cell_type": "code",
   "execution_count": 43,
   "id": "c9ff2432-72f1-4b77-9a2c-b5877cedeeb4",
   "metadata": {},
   "outputs": [
    {
     "name": "stdout",
     "output_type": "stream",
     "text": [
      "Inside the child class(fruit info)\n"
     ]
    }
   ],
   "source": [
    "obj.fruit_info()"
   ]
  },
  {
   "cell_type": "code",
   "execution_count": 45,
   "id": "b99219e6-0c25-4ced-b275-9fcf79d62a2a",
   "metadata": {},
   "outputs": [],
   "source": [
    "class GrandFather:\n",
    "    def pro_grand_father(self):\n",
    "        print(\"I am your grand father, this is my property\")\n",
    "class Father(GrandFather):\n",
    "    def prop_father(self):\n",
    "        print(\"I am your father, I am having my and your grandfather's property\")\n",
    "class Son(Father):\n",
    "    def prop_son(self):\n",
    "        print(\"I am the King, I am having all the properties\")"
   ]
  },
  {
   "cell_type": "code",
   "execution_count": 47,
   "id": "6b9237c3-3965-4b70-aeba-a5f84a3c606e",
   "metadata": {},
   "outputs": [
    {
     "name": "stdout",
     "output_type": "stream",
     "text": [
      "I am your father, I am having my and your grandfather's property\n"
     ]
    }
   ],
   "source": [
    "son = Son()\n",
    "son.prop_father()"
   ]
  },
  {
   "cell_type": "code",
   "execution_count": 49,
   "id": "f4fcfc5e-2c25-4a9d-bfe3-f9b8a16c3c0b",
   "metadata": {},
   "outputs": [
    {
     "name": "stdout",
     "output_type": "stream",
     "text": [
      "I am your grand father, this is my property\n"
     ]
    }
   ],
   "source": [
    "son.pro_grand_father()"
   ]
  },
  {
   "cell_type": "code",
   "execution_count": 51,
   "id": "c5297123-193e-4051-896e-59604a8c6315",
   "metadata": {},
   "outputs": [
    {
     "name": "stdout",
     "output_type": "stream",
     "text": [
      "I am the King, I am having all the properties\n"
     ]
    }
   ],
   "source": [
    "son.prop_son()"
   ]
  },
  {
   "cell_type": "code",
   "execution_count": 53,
   "id": "230e16b6-43d3-493b-b1d4-caef04cf2f58",
   "metadata": {},
   "outputs": [
    {
     "name": "stdout",
     "output_type": "stream",
     "text": [
      "I am your father, I am having my and your grandfather's property\n"
     ]
    }
   ],
   "source": [
    "fath = Father()\n",
    "fath.prop_father()"
   ]
  },
  {
   "cell_type": "code",
   "execution_count": 55,
   "id": "272e9c0c-0690-4adf-9b98-110c3718807e",
   "metadata": {},
   "outputs": [
    {
     "name": "stdout",
     "output_type": "stream",
     "text": [
      "I am your grand father, this is my property\n"
     ]
    }
   ],
   "source": [
    "fath.pro_grand_father()"
   ]
  },
  {
   "cell_type": "code",
   "execution_count": 57,
   "id": "b7315628-c5c7-45fc-ba14-b0bb6213a770",
   "metadata": {},
   "outputs": [
    {
     "name": "stdout",
     "output_type": "stream",
     "text": [
      "I am your grand father, this is my property\n"
     ]
    }
   ],
   "source": [
    "gf = GrandFather()\n",
    "gf.pro_grand_father()"
   ]
  },
  {
   "cell_type": "code",
   "execution_count": 59,
   "id": "6fb0df61-26db-46fb-95cb-c0b93b2aaeb3",
   "metadata": {},
   "outputs": [],
   "source": [
    "class Vehicle:\n",
    "    def vehicle_info(self):\n",
    "        print(\"Inside vehicle class\")\n",
    "class Car(Vehicle):\n",
    "    def car_info(self):\n",
    "        print(\"Inside the car class\")\n",
    "class SportsCar(Car):\n",
    "    def sports_car_info(self):\n",
    "        print(\"Inside sports car\")"
   ]
  },
  {
   "cell_type": "code",
   "execution_count": 61,
   "id": "199ffa04-ab7f-4e39-b174-5485c6d0195d",
   "metadata": {},
   "outputs": [
    {
     "name": "stdout",
     "output_type": "stream",
     "text": [
      "Inside sports car\n"
     ]
    }
   ],
   "source": [
    "s1 = SportsCar()\n",
    "s1.sports_car_info()"
   ]
  },
  {
   "cell_type": "code",
   "execution_count": 63,
   "id": "567973d4-2f40-4297-8135-3202ef814f47",
   "metadata": {},
   "outputs": [
    {
     "name": "stdout",
     "output_type": "stream",
     "text": [
      "Inside vehicle class\n"
     ]
    }
   ],
   "source": [
    "s1.vehicle_info()"
   ]
  },
  {
   "cell_type": "code",
   "execution_count": 65,
   "id": "030a59d3-32b3-4ba5-9de6-066978003e11",
   "metadata": {},
   "outputs": [
    {
     "name": "stdout",
     "output_type": "stream",
     "text": [
      "Inside the car class\n"
     ]
    }
   ],
   "source": [
    "s1.car_info()"
   ]
  },
  {
   "cell_type": "code",
   "execution_count": 73,
   "id": "88a49a4c-10ab-4dd1-a296-142d80aa2688",
   "metadata": {},
   "outputs": [],
   "source": [
    "#diamond problem\n",
    "class A:\n",
    "    def method(self):\n",
    "        print(\"Method of class A\")\n",
    "class B(A):\n",
    "    def method(self):\n",
    "        print(\"Method of class B\")\n",
    "class C(A):\n",
    "    def method(self):\n",
    "        print(\"Method of class C\")\n",
    "class D(B,C):\n",
    "    pass"
   ]
  },
  {
   "cell_type": "code",
   "execution_count": 75,
   "id": "7b33d4aa-b295-4f80-8e10-1b720a7bd6f7",
   "metadata": {},
   "outputs": [
    {
     "name": "stdout",
     "output_type": "stream",
     "text": [
      "Method of class B\n"
     ]
    }
   ],
   "source": [
    "d = D()\n",
    "d.method()"
   ]
  },
  {
   "cell_type": "code",
   "execution_count": 79,
   "id": "c2bce067-50b1-425c-999c-0827d809880d",
   "metadata": {},
   "outputs": [],
   "source": [
    "class Vehicle:\n",
    "    def vehicle_info(self):\n",
    "        print(\"Inside the vehicle class\")\n",
    "\n",
    "class Car(Vehicle):\n",
    "    def car_info(self):\n",
    "        print(\"Inside the car class\")\n",
    "\n",
    "class Truck(Vehicle):\n",
    "    def truck_info(self,name):\n",
    "        print(\"Inside truck info\",name)\n",
    "\n",
    "class SportsCar(Car,Vehicle):\n",
    "    def sports_info(self):\n",
    "        print(\"Inside sports car class\")"
   ]
  },
  {
   "cell_type": "code",
   "execution_count": 81,
   "id": "a0bcb828-9787-43f1-8f21-8b8542cdc304",
   "metadata": {},
   "outputs": [
    {
     "name": "stdout",
     "output_type": "stream",
     "text": [
      "Inside the car class\n"
     ]
    }
   ],
   "source": [
    "obj1 = SportsCar()\n",
    "obj1.car_info()"
   ]
  },
  {
   "cell_type": "code",
   "execution_count": 83,
   "id": "3e20e96f-c78f-4128-8f61-4af63b827498",
   "metadata": {},
   "outputs": [
    {
     "name": "stdout",
     "output_type": "stream",
     "text": [
      "Inside the vehicle class\n"
     ]
    }
   ],
   "source": [
    "obj1.vehicle_info()"
   ]
  },
  {
   "cell_type": "code",
   "execution_count": 85,
   "id": "279378f7-4c0a-4fd5-b24d-58956b8816ba",
   "metadata": {},
   "outputs": [
    {
     "name": "stdout",
     "output_type": "stream",
     "text": [
      "Inside the car class\n"
     ]
    }
   ],
   "source": [
    "obj1.car_info()"
   ]
  },
  {
   "cell_type": "code",
   "execution_count": 87,
   "id": "b1128ed0-8fd6-4e15-b241-80bbb7e06120",
   "metadata": {},
   "outputs": [],
   "source": [
    "#Abstraction"
   ]
  },
  {
   "cell_type": "code",
   "execution_count": 89,
   "id": "781a45a2-c293-4ef8-9d6f-4b5662fc895d",
   "metadata": {},
   "outputs": [],
   "source": [
    "import abc"
   ]
  },
  {
   "cell_type": "code",
   "execution_count": 91,
   "id": "9b28e930-bb4c-4ece-8afe-82b39eeab710",
   "metadata": {},
   "outputs": [],
   "source": [
    "class PwSkills:\n",
    "    @abc.abstractmethod\n",
    "    def student_details(self):\n",
    "        pass\n",
    "    @abc.abstractmethod\n",
    "    def student_assignment(self):\n",
    "        pass\n",
    "    @abc.abstractmethod\n",
    "    def student_marks(self):\n",
    "        pass"
   ]
  },
  {
   "cell_type": "code",
   "execution_count": 93,
   "id": "c3435d78-87be-457a-bbb0-457f297af031",
   "metadata": {},
   "outputs": [],
   "source": [
    "class DataScience(PwSkills):\n",
    "    def student_details(self):\n",
    "        return \"Data Science course details\"\n",
    "    def student_marks(self):\n",
    "        return \"give ds students marks\""
   ]
  },
  {
   "cell_type": "code",
   "execution_count": 95,
   "id": "e6292035-ed76-43c6-9239-25e6b31d246d",
   "metadata": {},
   "outputs": [],
   "source": [
    "class Webdev(PwSkills):\n",
    "    def student_assignment(self):\n",
    "        return \"This will give web dev student assignment\"\n",
    "    def student_marks(self):\n",
    "        return \"webdev student marks\""
   ]
  },
  {
   "cell_type": "code",
   "execution_count": 97,
   "id": "4332fb91-071c-4f2e-b95f-71ab80c55959",
   "metadata": {},
   "outputs": [],
   "source": [
    "ds = DataScience()"
   ]
  },
  {
   "cell_type": "code",
   "execution_count": 99,
   "id": "bd585adf-56de-4cde-94f6-95a50a47d896",
   "metadata": {},
   "outputs": [],
   "source": [
    "ds.student_assignment()"
   ]
  },
  {
   "cell_type": "code",
   "execution_count": 101,
   "id": "701959ca-d8de-4e24-9446-a6f2d3c87bfe",
   "metadata": {},
   "outputs": [
    {
     "data": {
      "text/plain": [
       "'Data Science course details'"
      ]
     },
     "execution_count": 101,
     "metadata": {},
     "output_type": "execute_result"
    }
   ],
   "source": [
    "ds.student_details()"
   ]
  },
  {
   "cell_type": "code",
   "execution_count": 105,
   "id": "ea763bfa-eb48-4f1e-895c-b600449cc795",
   "metadata": {},
   "outputs": [
    {
     "data": {
      "text/plain": [
       "'webdev student marks'"
      ]
     },
     "execution_count": 105,
     "metadata": {},
     "output_type": "execute_result"
    }
   ],
   "source": [
    "w = Webdev()\n",
    "w.student_marks()"
   ]
  },
  {
   "cell_type": "code",
   "execution_count": 107,
   "id": "fc6c9351-8ef1-4abb-a65f-b4da721b39fc",
   "metadata": {},
   "outputs": [],
   "source": [
    "class Shape:\n",
    "    @abc.abstractmethod\n",
    "    def calculate_area(self):\n",
    "        pass\n",
    "class Rectangle(Shape):\n",
    "    def calculate_area(self):\n",
    "        return \"Area of rectangle is len*breadth\"\n",
    "class Circle(Shape):\n",
    "    def calculate_area(self):\n",
    "        return \"area of circle is pi r**2\""
   ]
  },
  {
   "cell_type": "code",
   "execution_count": null,
   "id": "103d8c3a-2702-4636-a9b0-b49af4cb302d",
   "metadata": {},
   "outputs": [],
   "source": [
    "rect = Recta"
   ]
  }
 ],
 "metadata": {
  "kernelspec": {
   "display_name": "Python 3 (ipykernel)",
   "language": "python",
   "name": "python3"
  },
  "language_info": {
   "codemirror_mode": {
    "name": "ipython",
    "version": 3
   },
   "file_extension": ".py",
   "mimetype": "text/x-python",
   "name": "python",
   "nbconvert_exporter": "python",
   "pygments_lexer": "ipython3",
   "version": "3.12.7"
  }
 },
 "nbformat": 4,
 "nbformat_minor": 5
}
