{
 "cells": [
  {
   "cell_type": "code",
   "execution_count": null,
   "id": "05343d1b-d1f5-4340-8cbb-fe1ae4b6c6b1",
   "metadata": {},
   "outputs": [],
   "source": [
    "# Lists are ordered collections of items\n",
    "# []\n",
    "# List is like a shopping bag that can store everything.\n",
    "# Can store any data type."
   ]
  },
  {
   "cell_type": "code",
   "execution_count": 1,
   "id": "6bf1e70c-67b6-4e98-88e9-9564315abe20",
   "metadata": {},
   "outputs": [
    {
     "data": {
      "text/plain": [
       "list"
      ]
     },
     "execution_count": 1,
     "metadata": {},
     "output_type": "execute_result"
    }
   ],
   "source": [
    "type([])"
   ]
  },
  {
   "cell_type": "code",
   "execution_count": 5,
   "id": "327b7da6-db1e-483d-82fb-fb303bff52b9",
   "metadata": {},
   "outputs": [],
   "source": [
    "grocery_list = [\"Milk\",\"Orange\",1,2.2,True, 3+5j]"
   ]
  },
  {
   "cell_type": "code",
   "execution_count": 7,
   "id": "6fb5f08a-098a-481b-97d6-5e925d547cde",
   "metadata": {},
   "outputs": [
    {
     "data": {
      "text/plain": [
       "list"
      ]
     },
     "execution_count": 7,
     "metadata": {},
     "output_type": "execute_result"
    }
   ],
   "source": [
    "type(grocery_list)"
   ]
  },
  {
   "cell_type": "code",
   "execution_count": null,
   "id": "4430aabe-21fc-46f3-a9f4-92286367a480",
   "metadata": {},
   "outputs": [],
   "source": [
    "#Lists are mutable"
   ]
  },
  {
   "cell_type": "code",
   "execution_count": 9,
   "id": "b8e9981f-5a51-4ae5-9927-5ea7c1b2afca",
   "metadata": {},
   "outputs": [
    {
     "data": {
      "text/plain": [
       "'Milk'"
      ]
     },
     "execution_count": 9,
     "metadata": {},
     "output_type": "execute_result"
    }
   ],
   "source": [
    "grocery_list[0]"
   ]
  },
  {
   "cell_type": "code",
   "execution_count": 11,
   "id": "e3485535-6f69-45f0-ad26-72b72f872b13",
   "metadata": {},
   "outputs": [
    {
     "data": {
      "text/plain": [
       "(3+5j)"
      ]
     },
     "execution_count": 11,
     "metadata": {},
     "output_type": "execute_result"
    }
   ],
   "source": [
    "grocery_list[-1]"
   ]
  },
  {
   "cell_type": "code",
   "execution_count": 13,
   "id": "998178a3-7f06-4cb4-be22-2c35eb48e024",
   "metadata": {},
   "outputs": [
    {
     "data": {
      "text/plain": [
       "['Orange', 1, 2.2, True, (3+5j)]"
      ]
     },
     "execution_count": 13,
     "metadata": {},
     "output_type": "execute_result"
    }
   ],
   "source": [
    "grocery_list[1:]"
   ]
  },
  {
   "cell_type": "code",
   "execution_count": 17,
   "id": "5973d9c6-0f7d-42fb-a480-511522c76367",
   "metadata": {},
   "outputs": [
    {
     "data": {
      "text/plain": [
       "['Orange', 1, 2.2]"
      ]
     },
     "execution_count": 17,
     "metadata": {},
     "output_type": "execute_result"
    }
   ],
   "source": [
    "grocery_list[1:4]"
   ]
  },
  {
   "cell_type": "code",
   "execution_count": 19,
   "id": "12346b0a-c399-492e-864b-861d59b4f8e6",
   "metadata": {},
   "outputs": [
    {
     "data": {
      "text/plain": [
       "['Action2', 'Comedy', 'thriller']"
      ]
     },
     "execution_count": 19,
     "metadata": {},
     "output_type": "execute_result"
    }
   ],
   "source": [
    "movies = [\"Action1\",\"Action2\",\"Comedy\",\"thriller\"] \n",
    "movies[1:]"
   ]
  },
  {
   "cell_type": "code",
   "execution_count": 21,
   "id": "4cf0e088-3c42-4de1-af85-1f1a4ae43f59",
   "metadata": {},
   "outputs": [
    {
     "data": {
      "text/plain": [
       "['Action1', 'Action2', 'Comedy', 'thriller']"
      ]
     },
     "execution_count": 21,
     "metadata": {},
     "output_type": "execute_result"
    }
   ],
   "source": [
    "movies[0:4]"
   ]
  },
  {
   "cell_type": "code",
   "execution_count": 27,
   "id": "a52e07cd-830b-45bb-aec2-7cf4c5aea7cf",
   "metadata": {},
   "outputs": [
    {
     "data": {
      "text/plain": [
       "'index'"
      ]
     },
     "execution_count": 27,
     "metadata": {},
     "output_type": "execute_result"
    }
   ],
   "source": [
    "pages = [\"title page\",\"chap1\",\"chap2\",\"conclusion\",\"index\"]\n",
    "pages[-1]"
   ]
  },
  {
   "cell_type": "code",
   "execution_count": 29,
   "id": "2c61de04-68db-447b-88b7-89ffcdc80171",
   "metadata": {},
   "outputs": [
    {
     "data": {
      "text/plain": [
       "'conclusion'"
      ]
     },
     "execution_count": 29,
     "metadata": {},
     "output_type": "execute_result"
    }
   ],
   "source": [
    "pages[-2]"
   ]
  },
  {
   "cell_type": "code",
   "execution_count": 31,
   "id": "2ca922fb-a916-464a-9814-867d67996be3",
   "metadata": {},
   "outputs": [
    {
     "data": {
      "text/plain": [
       "'Ajay'"
      ]
     },
     "execution_count": 31,
     "metadata": {},
     "output_type": "execute_result"
    }
   ],
   "source": [
    "queue = [\"Ranjan\",\"Sanjay\",\"Bijay\",\"Ajay\"]\n",
    "queue[-1]"
   ]
  },
  {
   "cell_type": "code",
   "execution_count": 33,
   "id": "209ec853-8323-43b6-b0a1-07eb4b60eaf5",
   "metadata": {},
   "outputs": [
    {
     "data": {
      "text/plain": [
       "'Bijay'"
      ]
     },
     "execution_count": 33,
     "metadata": {},
     "output_type": "execute_result"
    }
   ],
   "source": [
    "queue[-2]"
   ]
  },
  {
   "cell_type": "code",
   "execution_count": 35,
   "id": "6d8201c8-b12f-4f90-8c1e-95db9ea12436",
   "metadata": {},
   "outputs": [
    {
     "data": {
      "text/plain": [
       "['Apple', 'Orange']"
      ]
     },
     "execution_count": 35,
     "metadata": {},
     "output_type": "execute_result"
    }
   ],
   "source": [
    "lis = [\"Apple\",\"Orange\"]\n",
    "lis"
   ]
  },
  {
   "cell_type": "code",
   "execution_count": 37,
   "id": "de43c54b-b06b-45b6-a35c-83fdfd4d5902",
   "metadata": {},
   "outputs": [
    {
     "data": {
      "text/plain": [
       "['Apple', 'Orange', 'Banana']"
      ]
     },
     "execution_count": 37,
     "metadata": {},
     "output_type": "execute_result"
    }
   ],
   "source": [
    "lis.append(\"Banana\")\n",
    "lis"
   ]
  },
  {
   "cell_type": "code",
   "execution_count": 39,
   "id": "ea37d970-2a4a-4fba-8727-3fbd87cf9516",
   "metadata": {},
   "outputs": [],
   "source": [
    "#use cases\n",
    "playlist = []\n",
    "playlist.append(\"sare jahan se acha\")\n",
    "playlist.append(\"Ae mere watan ke logo\")\n",
    "playlist.append(\"Tughe dekha toh\")"
   ]
  },
  {
   "cell_type": "code",
   "execution_count": 41,
   "id": "0cdd8d93-aca0-45c3-b2b2-777398ee8699",
   "metadata": {},
   "outputs": [
    {
     "data": {
      "text/plain": [
       "['sare jahan se acha', 'Ae mere watan ke logo', 'Tughe dekha toh']"
      ]
     },
     "execution_count": 41,
     "metadata": {},
     "output_type": "execute_result"
    }
   ],
   "source": [
    "playlist"
   ]
  },
  {
   "cell_type": "code",
   "execution_count": 43,
   "id": "472cd53f-b332-479a-830f-e8297f6ca896",
   "metadata": {},
   "outputs": [
    {
     "data": {
      "text/plain": [
       "['Book1', 'Book2']"
      ]
     },
     "execution_count": 43,
     "metadata": {},
     "output_type": "execute_result"
    }
   ],
   "source": [
    "bookshelf = []\n",
    "bookshelf.append(\"Book1\")\n",
    "bookshelf.append(\"Book2\")\n",
    "bookshelf"
   ]
  },
  {
   "cell_type": "code",
   "execution_count": 45,
   "id": "cce0969b-ad63-42c1-a723-ce9170493b45",
   "metadata": {},
   "outputs": [
    {
     "data": {
      "text/plain": [
       "['Apple', 'Orange', 'Banana']"
      ]
     },
     "execution_count": 45,
     "metadata": {},
     "output_type": "execute_result"
    }
   ],
   "source": [
    "lis"
   ]
  },
  {
   "cell_type": "code",
   "execution_count": 47,
   "id": "df6b485f-f2c2-4dc9-8996-1a7e62f4eaca",
   "metadata": {},
   "outputs": [
    {
     "data": {
      "text/plain": [
       "'Apple'"
      ]
     },
     "execution_count": 47,
     "metadata": {},
     "output_type": "execute_result"
    }
   ],
   "source": [
    "#List is mutable\n",
    "lis[0]"
   ]
  },
  {
   "cell_type": "code",
   "execution_count": 49,
   "id": "0b00e46c-508e-49a8-9f4f-3398fbfee2ad",
   "metadata": {},
   "outputs": [
    {
     "data": {
      "text/plain": [
       "['Mango', 'Orange', 'Banana']"
      ]
     },
     "execution_count": 49,
     "metadata": {},
     "output_type": "execute_result"
    }
   ],
   "source": [
    "lis[0] = \"Mango\"\n",
    "lis"
   ]
  },
  {
   "cell_type": "code",
   "execution_count": 51,
   "id": "8d8ca992-7e7a-4bab-b4d1-6c8ca70809d9",
   "metadata": {},
   "outputs": [
    {
     "data": {
      "text/plain": [
       "'Orange'"
      ]
     },
     "execution_count": 51,
     "metadata": {},
     "output_type": "execute_result"
    }
   ],
   "source": [
    "lis[1]"
   ]
  },
  {
   "cell_type": "code",
   "execution_count": 53,
   "id": "cb9d32f5-2b4b-4113-a5d9-12dd4b9f4e03",
   "metadata": {},
   "outputs": [
    {
     "data": {
      "text/plain": [
       "['Mango', 'Brinjal', 'Banana']"
      ]
     },
     "execution_count": 53,
     "metadata": {},
     "output_type": "execute_result"
    }
   ],
   "source": [
    "lis[1] = \"Brinjal\"\n",
    "lis"
   ]
  },
  {
   "cell_type": "code",
   "execution_count": 57,
   "id": "801849e6-6727-4851-9e75-e96fd4b2ac70",
   "metadata": {},
   "outputs": [],
   "source": [
    "lis.append(\"apple\")"
   ]
  },
  {
   "cell_type": "code",
   "execution_count": 59,
   "id": "479db285-ffe7-4aaa-a0c0-9803a51fd928",
   "metadata": {},
   "outputs": [
    {
     "data": {
      "text/plain": [
       "['Mango', 'Brinjal', 'Banana', 'apple']"
      ]
     },
     "execution_count": 59,
     "metadata": {},
     "output_type": "execute_result"
    }
   ],
   "source": [
    "lis"
   ]
  },
  {
   "cell_type": "code",
   "execution_count": 63,
   "id": "87899c23-d842-4654-a2e8-7bf389a66d73",
   "metadata": {},
   "outputs": [
    {
     "data": {
      "text/plain": [
       "['Mango', 'potato', 'potato', 'Brinjal', 'Banana', 'apple']"
      ]
     },
     "execution_count": 63,
     "metadata": {},
     "output_type": "execute_result"
    }
   ],
   "source": [
    "lis.insert(1,\"potato\") #Insert object before index.\n",
    "lis"
   ]
  },
  {
   "cell_type": "code",
   "execution_count": 65,
   "id": "1e8f59d0-dd70-4206-83fb-a3c94ab880ed",
   "metadata": {},
   "outputs": [],
   "source": [
    "#use case\n",
    "bus_seat = [\"Ajay\",\"Aman\",\"Kishan\"]\n",
    "bus_seat.insert(2,\"Khusi\")"
   ]
  },
  {
   "cell_type": "code",
   "execution_count": 67,
   "id": "8e3084f6-97bc-4a3b-a8d4-f7982e64e667",
   "metadata": {},
   "outputs": [
    {
     "data": {
      "text/plain": [
       "['Ajay', 'Aman', 'Khusi', 'Kishan']"
      ]
     },
     "execution_count": 67,
     "metadata": {},
     "output_type": "execute_result"
    }
   ],
   "source": [
    "bus_seat"
   ]
  },
  {
   "cell_type": "code",
   "execution_count": 69,
   "id": "537b5151-5227-4580-992b-0fd4edcb53be",
   "metadata": {},
   "outputs": [
    {
     "data": {
      "text/plain": [
       "['Apple', 'Banana', 'Orange', 'brinjal', 'potato']"
      ]
     },
     "execution_count": 69,
     "metadata": {},
     "output_type": "execute_result"
    }
   ],
   "source": [
    "# extend >> used to append elements from another list\n",
    "my_list = [\"Apple\",\"Banana\",\"Orange\"]\n",
    "brothers_list = [\"brinjal\",\"potato\"]\n",
    "my_list.extend(brothers_list)\n",
    "my_list"
   ]
  },
  {
   "cell_type": "code",
   "execution_count": null,
   "id": "3b8df209-322b-46cc-a632-d1db5c38adc0",
   "metadata": {},
   "outputs": [],
   "source": [
    "# concatenate \n",
    "# create a new list"
   ]
  },
  {
   "cell_type": "code",
   "execution_count": 71,
   "id": "8cc6217a-2d46-47f7-b003-9727b5addfd0",
   "metadata": {},
   "outputs": [
    {
     "data": {
      "text/plain": [
       "['Apple', 'Banana', 'Orange', 'brinjal', 'potato']"
      ]
     },
     "execution_count": 71,
     "metadata": {},
     "output_type": "execute_result"
    }
   ],
   "source": [
    "my_list = [\"Apple\",\"Banana\",\"Orange\"]\n",
    "brothers_list = [\"brinjal\",\"potato\"]\n",
    "my_list + brothers_list"
   ]
  },
  {
   "cell_type": "code",
   "execution_count": 73,
   "id": "b2183025-e3ad-4c74-8077-fa6279d31560",
   "metadata": {},
   "outputs": [
    {
     "data": {
      "text/plain": [
       "'*****'"
      ]
     },
     "execution_count": 73,
     "metadata": {},
     "output_type": "execute_result"
    }
   ],
   "source": [
    "# repition operation \n",
    "\"*\" * 5"
   ]
  },
  {
   "cell_type": "code",
   "execution_count": 75,
   "id": "83aa80e1-7fbc-401f-acc8-0dd198be637a",
   "metadata": {},
   "outputs": [
    {
     "data": {
      "text/plain": [
       "[0, 0, 0, 0, 0, 0, 0, 0, 0, 0]"
      ]
     },
     "execution_count": 75,
     "metadata": {},
     "output_type": "execute_result"
    }
   ],
   "source": [
    "[0] * 10"
   ]
  },
  {
   "cell_type": "code",
   "execution_count": 77,
   "id": "eb2e290d-f9c3-451d-95ae-afbbb080f1e6",
   "metadata": {},
   "outputs": [
    {
     "data": {
      "text/plain": [
       "[1, 2, 3, 1, 2, 3, 1, 2, 3, 1, 2, 3, 1, 2, 3]"
      ]
     },
     "execution_count": 77,
     "metadata": {},
     "output_type": "execute_result"
    }
   ],
   "source": [
    "[1,2,3]*5"
   ]
  },
  {
   "cell_type": "code",
   "execution_count": 79,
   "id": "775c9916-7ef9-45bf-ae8d-cdf0cbf67923",
   "metadata": {},
   "outputs": [
    {
     "data": {
      "text/plain": [
       "[0,\n",
       " 1,\n",
       " 2,\n",
       " 3,\n",
       " 4,\n",
       " 5,\n",
       " 6,\n",
       " 7,\n",
       " 8,\n",
       " 9,\n",
       " 0,\n",
       " 1,\n",
       " 2,\n",
       " 3,\n",
       " 4,\n",
       " 5,\n",
       " 6,\n",
       " 7,\n",
       " 8,\n",
       " 9,\n",
       " 0,\n",
       " 1,\n",
       " 2,\n",
       " 3,\n",
       " 4,\n",
       " 5,\n",
       " 6,\n",
       " 7,\n",
       " 8,\n",
       " 9]"
      ]
     },
     "execution_count": 79,
     "metadata": {},
     "output_type": "execute_result"
    }
   ],
   "source": [
    "list(range(10)) * 3"
   ]
  },
  {
   "cell_type": "code",
   "execution_count": 81,
   "id": "de12e0a2-26f3-430c-b8b3-f60e52c683f3",
   "metadata": {},
   "outputs": [
    {
     "name": "stdout",
     "output_type": "stream",
     "text": [
      "Your appointment is tommorrow \n",
      "Your appointment is tommorrow \n",
      "Your appointment is tommorrow \n",
      "\n"
     ]
    }
   ],
   "source": [
    "msg = \"Your appointment is tommorrow \\n\" \n",
    "print(msg*3)"
   ]
  },
  {
   "cell_type": "code",
   "execution_count": 83,
   "id": "028451e7-f533-4146-9f83-8cc7f9134ad2",
   "metadata": {},
   "outputs": [
    {
     "data": {
      "text/plain": [
       "['Milk', 'Orange', 1, 2.2, True, (3+5j)]"
      ]
     },
     "execution_count": 83,
     "metadata": {},
     "output_type": "execute_result"
    }
   ],
   "source": [
    "# membership in , not in \n",
    "\n",
    "grocery_list"
   ]
  },
  {
   "cell_type": "code",
   "execution_count": 85,
   "id": "4032c6b9-d083-4831-b132-8bd08bd2f0f8",
   "metadata": {},
   "outputs": [
    {
     "data": {
      "text/plain": [
       "True"
      ]
     },
     "execution_count": 85,
     "metadata": {},
     "output_type": "execute_result"
    }
   ],
   "source": [
    "\"Milk\" in grocery_list"
   ]
  },
  {
   "cell_type": "code",
   "execution_count": 87,
   "id": "957ea309-20e9-42ec-9f61-379fec0329b1",
   "metadata": {},
   "outputs": [
    {
     "data": {
      "text/plain": [
       "False"
      ]
     },
     "execution_count": 87,
     "metadata": {},
     "output_type": "execute_result"
    }
   ],
   "source": [
    "\"POTATO\" in grocery_list"
   ]
  },
  {
   "cell_type": "code",
   "execution_count": null,
   "id": "61b14410-016a-4e13-9c30-562f48db7c73",
   "metadata": {},
   "outputs": [],
   "source": [
    "# Deep copy and shallow copy"
   ]
  },
  {
   "cell_type": "code",
   "execution_count": null,
   "id": "9be77ab2-9621-43f9-8057-f7ac582f4fcd",
   "metadata": {},
   "outputs": [],
   "source": [
    "# shallow copy >> value will change in other list"
   ]
  },
  {
   "cell_type": "code",
   "execution_count": 89,
   "id": "d0ddeef1-c6c2-4f51-871a-2711c9442c1c",
   "metadata": {},
   "outputs": [],
   "source": [
    "a = grocery_list # shallow copy"
   ]
  },
  {
   "cell_type": "code",
   "execution_count": 91,
   "id": "eec425b6-1265-4ff0-b655-49b2d87078a2",
   "metadata": {},
   "outputs": [
    {
     "data": {
      "text/plain": [
       "['Milk', 'Orange', 1, 2.2, True, (3+5j)]"
      ]
     },
     "execution_count": 91,
     "metadata": {},
     "output_type": "execute_result"
    }
   ],
   "source": [
    "a"
   ]
  },
  {
   "cell_type": "code",
   "execution_count": 95,
   "id": "de412429-1056-4588-b1c0-fd801b8424d9",
   "metadata": {},
   "outputs": [],
   "source": [
    "a[0] = \"potato\""
   ]
  },
  {
   "cell_type": "code",
   "execution_count": 97,
   "id": "3cbf6e92-0230-4fc3-8525-7bb9a7da9406",
   "metadata": {},
   "outputs": [
    {
     "data": {
      "text/plain": [
       "['potato', 'Orange', 1, 2.2, True, (3+5j)]"
      ]
     },
     "execution_count": 97,
     "metadata": {},
     "output_type": "execute_result"
    }
   ],
   "source": [
    "a"
   ]
  },
  {
   "cell_type": "code",
   "execution_count": 99,
   "id": "377e2c29-39ff-4c68-96cc-93b16fbe3580",
   "metadata": {},
   "outputs": [
    {
     "data": {
      "text/plain": [
       "['potato', 'Orange', 1, 2.2, True, (3+5j)]"
      ]
     },
     "execution_count": 99,
     "metadata": {},
     "output_type": "execute_result"
    }
   ],
   "source": [
    "grocery_list"
   ]
  },
  {
   "cell_type": "code",
   "execution_count": null,
   "id": "6e6e00ae-568e-475a-82b3-df326e2e6f09",
   "metadata": {},
   "outputs": [],
   "source": [
    "#deep copy >> will not change the value of another list"
   ]
  },
  {
   "cell_type": "code",
   "execution_count": 101,
   "id": "9fb2092f-a88d-4643-9d71-a56c8c41416b",
   "metadata": {},
   "outputs": [
    {
     "data": {
      "text/plain": [
       "['potato', 'Orange', 1, 2.2, True, (3+5j)]"
      ]
     },
     "execution_count": 101,
     "metadata": {},
     "output_type": "execute_result"
    }
   ],
   "source": [
    "grocery_list"
   ]
  },
  {
   "cell_type": "code",
   "execution_count": 103,
   "id": "5344a12b-f5a8-431a-9a73-5d5efc5a8611",
   "metadata": {},
   "outputs": [],
   "source": [
    "b = grocery_list.copy() # deep copy"
   ]
  },
  {
   "cell_type": "code",
   "execution_count": 105,
   "id": "09fc7ceb-8e30-4ec5-94e1-9498a4a45000",
   "metadata": {},
   "outputs": [],
   "source": [
    "b[0] = \"Milk\""
   ]
  },
  {
   "cell_type": "code",
   "execution_count": 107,
   "id": "1129ebf8-9ca3-4cde-8eeb-3bb62924fe84",
   "metadata": {},
   "outputs": [
    {
     "data": {
      "text/plain": [
       "['Milk', 'Orange', 1, 2.2, True, (3+5j)]"
      ]
     },
     "execution_count": 107,
     "metadata": {},
     "output_type": "execute_result"
    }
   ],
   "source": [
    "b"
   ]
  },
  {
   "cell_type": "code",
   "execution_count": 109,
   "id": "45df0261-4a8b-4594-81c6-10d7eb13ae88",
   "metadata": {},
   "outputs": [
    {
     "data": {
      "text/plain": [
       "['potato', 'Orange', 1, 2.2, True, (3+5j)]"
      ]
     },
     "execution_count": 109,
     "metadata": {},
     "output_type": "execute_result"
    }
   ],
   "source": [
    "grocery_list"
   ]
  },
  {
   "cell_type": "code",
   "execution_count": 113,
   "id": "3acd4fc6-bcd1-4884-a52a-c30c835cfa02",
   "metadata": {},
   "outputs": [
    {
     "data": {
      "text/plain": [
       "['Algorithm', 'Data Str', 'Web']"
      ]
     },
     "execution_count": 113,
     "metadata": {},
     "output_type": "execute_result"
    }
   ],
   "source": [
    "# sorting list\n",
    "book_list = [\"Data Str\", \"Algorithm\",\"Web\"]\n",
    "sorted(book_list)"
   ]
  },
  {
   "cell_type": "code",
   "execution_count": 123,
   "id": "0523b124-fe3b-4874-b766-828423f626bc",
   "metadata": {},
   "outputs": [
    {
     "data": {
      "text/plain": [
       "1"
      ]
     },
     "execution_count": 123,
     "metadata": {},
     "output_type": "execute_result"
    }
   ],
   "source": [
    " book_list.index(\"Algorithm\") # return the index of first occurence"
   ]
  },
  {
   "cell_type": "code",
   "execution_count": 127,
   "id": "faf07e1e-4d0e-4886-8f0c-5f0e4fbaac01",
   "metadata": {},
   "outputs": [
    {
     "data": {
      "text/plain": [
       "2"
      ]
     },
     "execution_count": 127,
     "metadata": {},
     "output_type": "execute_result"
    }
   ],
   "source": [
    "book_list.index(\"Web\")"
   ]
  },
  {
   "cell_type": "code",
   "execution_count": 129,
   "id": "cb6c06e7-3498-412d-9df9-31d0892807c1",
   "metadata": {},
   "outputs": [
    {
     "data": {
      "text/plain": [
       "3"
      ]
     },
     "execution_count": 129,
     "metadata": {},
     "output_type": "execute_result"
    }
   ],
   "source": [
    "len(book_list) #number of elements in the list"
   ]
  },
  {
   "cell_type": "code",
   "execution_count": 133,
   "id": "eb39860d-404c-4cca-b016-e408a4145b5f",
   "metadata": {},
   "outputs": [
    {
     "data": {
      "text/plain": [
       "1"
      ]
     },
     "execution_count": 133,
     "metadata": {},
     "output_type": "execute_result"
    }
   ],
   "source": [
    "book_list.count(\"Algorithm\") #count gives the count of a specific element in a list"
   ]
  },
  {
   "cell_type": "code",
   "execution_count": null,
   "id": "97587830-68ff-40c0-8737-dd3d5adec6a6",
   "metadata": {},
   "outputs": [],
   "source": [
    "book_list.remove(\"Data Str\")"
   ]
  },
  {
   "cell_type": "code",
   "execution_count": 141,
   "id": "758b0988-b936-4267-81ad-5948ca45a6a7",
   "metadata": {},
   "outputs": [
    {
     "data": {
      "text/plain": [
       "['Algorithm', 'Web']"
      ]
     },
     "execution_count": 141,
     "metadata": {},
     "output_type": "execute_result"
    }
   ],
   "source": [
    "book_list"
   ]
  },
  {
   "cell_type": "code",
   "execution_count": 143,
   "id": "e920beb1-deb7-430c-b98e-d280697358e6",
   "metadata": {},
   "outputs": [],
   "source": [
    "del book_list"
   ]
  },
  {
   "cell_type": "code",
   "execution_count": 147,
   "id": "32f56dcf-cdde-4850-b879-7e2ecbe8d198",
   "metadata": {},
   "outputs": [
    {
     "ename": "NameError",
     "evalue": "name 'book_list' is not defined",
     "output_type": "error",
     "traceback": [
      "\u001b[1;31m---------------------------------------------------------------------------\u001b[0m",
      "\u001b[1;31mNameError\u001b[0m                                 Traceback (most recent call last)",
      "Cell \u001b[1;32mIn[147], line 1\u001b[0m\n\u001b[1;32m----> 1\u001b[0m book_list\n",
      "\u001b[1;31mNameError\u001b[0m: name 'book_list' is not defined"
     ]
    }
   ],
   "source": [
    "book_list"
   ]
  },
  {
   "cell_type": "code",
   "execution_count": 149,
   "id": "bfb463a2-205d-4cb2-8fe5-182e06a76c9a",
   "metadata": {},
   "outputs": [],
   "source": [
    "book_list = [\"Data Str\",\"Algorithm\",\"web\",\"Algorithm\"]"
   ]
  },
  {
   "cell_type": "code",
   "execution_count": 153,
   "id": "b1b2dc40-1143-4fc4-8062-aa4e63f7ece3",
   "metadata": {},
   "outputs": [],
   "source": [
    "book_list.clear()"
   ]
  },
  {
   "cell_type": "code",
   "execution_count": 155,
   "id": "732264e7-ea81-418b-9c33-aa88707999b8",
   "metadata": {},
   "outputs": [
    {
     "data": {
      "text/plain": [
       "[]"
      ]
     },
     "execution_count": 155,
     "metadata": {},
     "output_type": "execute_result"
    }
   ],
   "source": [
    "book_list"
   ]
  },
  {
   "cell_type": "code",
   "execution_count": 157,
   "id": "d2a25880-8335-4763-8069-661a1df92c7b",
   "metadata": {},
   "outputs": [],
   "source": [
    "book_list = [\"Data Str\",\"Algorithm\",\"web\",\"Algorithm\"]"
   ]
  },
  {
   "cell_type": "code",
   "execution_count": 159,
   "id": "84d996cd-589e-4c8c-9e8a-838c2b14193b",
   "metadata": {},
   "outputs": [
    {
     "data": {
      "text/plain": [
       "'Algorithm'"
      ]
     },
     "execution_count": 159,
     "metadata": {},
     "output_type": "execute_result"
    }
   ],
   "source": [
    "book_list.pop() # removes the last element"
   ]
  },
  {
   "cell_type": "code",
   "execution_count": 161,
   "id": "a5247cfe-72fe-453b-9129-9fcc7edcf731",
   "metadata": {},
   "outputs": [
    {
     "data": {
      "text/plain": [
       "['Data Str', 'Algorithm', 'web']"
      ]
     },
     "execution_count": 161,
     "metadata": {},
     "output_type": "execute_result"
    }
   ],
   "source": [
    "book_list"
   ]
  },
  {
   "cell_type": "code",
   "execution_count": 163,
   "id": "1718b7d1-ce32-4406-9d36-5e3d9130e04e",
   "metadata": {},
   "outputs": [
    {
     "data": {
      "text/plain": [
       "'Algorithm'"
      ]
     },
     "execution_count": 163,
     "metadata": {},
     "output_type": "execute_result"
    }
   ],
   "source": [
    "book_list.pop(1)"
   ]
  },
  {
   "cell_type": "code",
   "execution_count": 165,
   "id": "0ffc7f47-41c2-438a-8def-f2ecadec55c2",
   "metadata": {},
   "outputs": [
    {
     "data": {
      "text/plain": [
       "['Data Str', 'web']"
      ]
     },
     "execution_count": 165,
     "metadata": {},
     "output_type": "execute_result"
    }
   ],
   "source": [
    "book_list"
   ]
  },
  {
   "cell_type": "code",
   "execution_count": 167,
   "id": "d9a6c3e5-951c-443c-bce6-07afea71c315",
   "metadata": {},
   "outputs": [],
   "source": [
    "# List comprehension\n",
    "prices = [10,20,30,40,50]\n",
    "doubled_price = []\n",
    "for i in prices:\n",
    "    doubled_price.append(i*2)"
   ]
  },
  {
   "cell_type": "code",
   "execution_count": 169,
   "id": "e33893c6-91ee-40bd-aaa6-4fe310a13f45",
   "metadata": {},
   "outputs": [
    {
     "data": {
      "text/plain": [
       "[20, 40, 60, 80, 100]"
      ]
     },
     "execution_count": 169,
     "metadata": {},
     "output_type": "execute_result"
    }
   ],
   "source": [
    "doubled_price"
   ]
  },
  {
   "cell_type": "code",
   "execution_count": 171,
   "id": "c38e2e4b-0c93-4b3f-bc73-106c35fee18d",
   "metadata": {},
   "outputs": [
    {
     "data": {
      "text/plain": [
       "[20, 40, 60, 80, 100]"
      ]
     },
     "execution_count": 171,
     "metadata": {},
     "output_type": "execute_result"
    }
   ],
   "source": [
    "[price * 2 for price in prices] #comprehensive way"
   ]
  },
  {
   "cell_type": "code",
   "execution_count": 173,
   "id": "4decf8e8-7b9b-4eeb-8cc1-111b765fc035",
   "metadata": {},
   "outputs": [
    {
     "data": {
      "text/plain": [
       "[20, 40, 60, 80, 100]"
      ]
     },
     "execution_count": 173,
     "metadata": {},
     "output_type": "execute_result"
    }
   ],
   "source": [
    "doubled_price"
   ]
  },
  {
   "cell_type": "code",
   "execution_count": 177,
   "id": "29c365fe-b21a-4fce-9d4f-6d96e34fc2cf",
   "metadata": {},
   "outputs": [
    {
     "data": {
      "text/plain": [
       "['Ajay', 'Bijay', 'Sanjay']"
      ]
     },
     "execution_count": 177,
     "metadata": {},
     "output_type": "execute_result"
    }
   ],
   "source": [
    "names = [\"Ajay\",\"bijay\",\"sanjay\"]\n",
    "[name.capitalize() for name in names]"
   ]
  },
  {
   "cell_type": "code",
   "execution_count": 179,
   "id": "cbcf2bde-311b-4d76-b250-9a773b310ab7",
   "metadata": {},
   "outputs": [
    {
     "data": {
      "text/plain": [
       "[1, 4, 9, 16, 25]"
      ]
     },
     "execution_count": 179,
     "metadata": {},
     "output_type": "execute_result"
    }
   ],
   "source": [
    "#use cases\n",
    "numbers = [1,2,3,4,5]\n",
    "[num**2 for num in numbers]"
   ]
  },
  {
   "cell_type": "code",
   "execution_count": 181,
   "id": "625d67de-7ca1-470a-8f60-81bd051bba80",
   "metadata": {},
   "outputs": [
    {
     "data": {
      "text/plain": [
       "'ppt'"
      ]
     },
     "execution_count": 181,
     "metadata": {},
     "output_type": "execute_result"
    }
   ],
   "source": [
    "str1 = \"doc1.ppt\"\n",
    "str1.split(\".\")[-1]"
   ]
  },
  {
   "cell_type": "code",
   "execution_count": 183,
   "id": "8a502cbb-359f-402c-9d37-078055c2b487",
   "metadata": {},
   "outputs": [
    {
     "data": {
      "text/plain": [
       "['ppt', 'pdf', 'jpg', 'py']"
      ]
     },
     "execution_count": 183,
     "metadata": {},
     "output_type": "execute_result"
    }
   ],
   "source": [
    "file_name = [\"doc1.ppt\",\"doc2.pdf\",\"doc3.jpg\",\"doc4.py\"]\n",
    "[file.split(\".\")[-1] for file in file_name]"
   ]
  },
  {
   "cell_type": "code",
   "execution_count": 185,
   "id": "476a222e-2e38-4316-bd17-c44cf39e5a4b",
   "metadata": {},
   "outputs": [
    {
     "data": {
      "text/plain": [
       "['sj@yahoo.com', 'rj@yahoo.com']"
      ]
     },
     "execution_count": 185,
     "metadata": {},
     "output_type": "execute_result"
    }
   ],
   "source": [
    "#conditional list comprehension\n",
    "email_address = [\"aj@gmail.com\",\"sj@yahoo.com\",\"rj@yahoo.com\",\"mj@gmail.com\"]\n",
    "[email for email in email_address if email.endswith(\"@yahoo.com\")]"
   ]
  },
  {
   "cell_type": "code",
   "execution_count": null,
   "id": "b95827c7-2ca2-4e09-9c8f-a8fc2c6bb3be",
   "metadata": {},
   "outputs": [],
   "source": [
    "#nested list comprehension "
   ]
  },
  {
   "cell_type": "code",
   "execution_count": 187,
   "id": "7431aa76-636c-4a49-a469-db5c106b95fd",
   "metadata": {},
   "outputs": [
    {
     "data": {
      "text/plain": [
       "[[1, 4], [1, 5], [1, 6], [2, 4], [2, 5], [2, 6], [3, 4], [3, 5], [3, 6]]"
      ]
     },
     "execution_count": 187,
     "metadata": {},
     "output_type": "execute_result"
    }
   ],
   "source": [
    "pairs = []\n",
    "for x in [1,2,3]:\n",
    "    for y in [4,5,6]:\n",
    "        pairs.append([x,y])\n",
    "pairs"
   ]
  },
  {
   "cell_type": "code",
   "execution_count": 189,
   "id": "e919bce2-21be-4933-b999-9c04490e425e",
   "metadata": {},
   "outputs": [
    {
     "data": {
      "text/plain": [
       "[[1, 4], [1, 5], [1, 6], [2, 4], [2, 5], [2, 6], [3, 4], [3, 5], [3, 6]]"
      ]
     },
     "execution_count": 189,
     "metadata": {},
     "output_type": "execute_result"
    }
   ],
   "source": [
    "[[x,y] for x in [1,2,3] for y in [4,5,6]]"
   ]
  },
  {
   "cell_type": "code",
   "execution_count": null,
   "id": "fbe5231d-53aa-43f6-96e9-cd835fe90dd1",
   "metadata": {},
   "outputs": [],
   "source": [
    "#List as stack and queue"
   ]
  },
  {
   "cell_type": "code",
   "execution_count": null,
   "id": "4440f0ff-7823-405f-b919-6a62b770f2a2",
   "metadata": {},
   "outputs": [],
   "source": [
    "#stack >> lIFO"
   ]
  },
  {
   "cell_type": "code",
   "execution_count": 191,
   "id": "cac87a57-edd7-443c-8699-4db1464c0408",
   "metadata": {},
   "outputs": [],
   "source": [
    "stack_of_plates = []\n",
    "stack_of_plates.append(\"plate1\")\n",
    "stack_of_plates.append(\"plate2\")\n",
    "stack_of_plates.append(\"plate3\")\n",
    "stack_of_plates.append(\"plate4\")"
   ]
  },
  {
   "cell_type": "code",
   "execution_count": 193,
   "id": "6baafdaa-f7e0-4ebe-b289-292c718eaed9",
   "metadata": {},
   "outputs": [
    {
     "data": {
      "text/plain": [
       "['plate1', 'plate2', 'plate3', 'plate4']"
      ]
     },
     "execution_count": 193,
     "metadata": {},
     "output_type": "execute_result"
    }
   ],
   "source": [
    "stack_of_plates"
   ]
  },
  {
   "cell_type": "code",
   "execution_count": 195,
   "id": "f0748d08-938c-47ac-b5eb-310ababef89e",
   "metadata": {},
   "outputs": [
    {
     "data": {
      "text/plain": [
       "'plate4'"
      ]
     },
     "execution_count": 195,
     "metadata": {},
     "output_type": "execute_result"
    }
   ],
   "source": [
    "stack_of_plates.pop()"
   ]
  },
  {
   "cell_type": "code",
   "execution_count": 197,
   "id": "ac39f00b-7ad4-4d02-bebb-69f12f1e1def",
   "metadata": {},
   "outputs": [
    {
     "data": {
      "text/plain": [
       "['plate1', 'plate2', 'plate3']"
      ]
     },
     "execution_count": 197,
     "metadata": {},
     "output_type": "execute_result"
    }
   ],
   "source": [
    "stack_of_plates"
   ]
  },
  {
   "cell_type": "code",
   "execution_count": 201,
   "id": "597487f8-2309-4e6c-9c41-76e22a7dda62",
   "metadata": {},
   "outputs": [],
   "source": [
    "#use case\n",
    "browsing_histor = []\n",
    "browsing_histor.append(\"home_page\")\n",
    "browsing_histor.append(\"about us\")\n",
    "browsing_histor.append(\"contact\")"
   ]
  },
  {
   "cell_type": "code",
   "execution_count": 203,
   "id": "2b8fd2df-f860-4e30-a728-44fb6028aa0a",
   "metadata": {},
   "outputs": [
    {
     "data": {
      "text/plain": [
       "['home_page', 'about us', 'contact']"
      ]
     },
     "execution_count": 203,
     "metadata": {},
     "output_type": "execute_result"
    }
   ],
   "source": [
    "browsing_histor"
   ]
  },
  {
   "cell_type": "code",
   "execution_count": 205,
   "id": "01637e89-0d14-443e-a519-26b5fb9b4017",
   "metadata": {},
   "outputs": [
    {
     "data": {
      "text/plain": [
       "'contact'"
      ]
     },
     "execution_count": 205,
     "metadata": {},
     "output_type": "execute_result"
    }
   ],
   "source": [
    "browsing_histor.pop()"
   ]
  },
  {
   "cell_type": "code",
   "execution_count": 207,
   "id": "51aee906-5a98-4e65-99a1-675ca380eb81",
   "metadata": {},
   "outputs": [
    {
     "data": {
      "text/plain": [
       "['home_page', 'about us']"
      ]
     },
     "execution_count": 207,
     "metadata": {},
     "output_type": "execute_result"
    }
   ],
   "source": [
    "browsing_histor"
   ]
  },
  {
   "cell_type": "code",
   "execution_count": null,
   "id": "4e055b46-9449-4e5d-b023-b05cf1b691ad",
   "metadata": {},
   "outputs": [],
   "source": [
    "# queue >> FIFO >> two ends"
   ]
  },
  {
   "cell_type": "code",
   "execution_count": 7,
   "id": "50629aac-735a-4736-a4a3-8701faacf0fc",
   "metadata": {},
   "outputs": [],
   "source": [
    "from collections import deque\n",
    "#library is a collection of python code(moldule)\n",
    "#collection is a library and deque is module"
   ]
  },
  {
   "cell_type": "code",
   "execution_count": 9,
   "id": "c77a2b39-d5b2-4851-a712-83d156cf2593",
   "metadata": {},
   "outputs": [],
   "source": [
    "checkout = deque()\n",
    "checkout.append(\"cus1\")\n",
    "checkout.append(\"cus2\")\n",
    "checkout.append(\"cus3\")\n",
    "checkout.append(\"cus4\")\n",
    "checkout.append(\"cus5\")"
   ]
  },
  {
   "cell_type": "code",
   "execution_count": 11,
   "id": "c9e1e4c3-f75d-49d9-b43f-80c08e831ed7",
   "metadata": {},
   "outputs": [
    {
     "data": {
      "text/plain": [
       "deque(['cus1', 'cus2', 'cus3', 'cus4', 'cus5'])"
      ]
     },
     "execution_count": 11,
     "metadata": {},
     "output_type": "execute_result"
    }
   ],
   "source": [
    "checkout"
   ]
  },
  {
   "cell_type": "code",
   "execution_count": 13,
   "id": "d7e506bf-fa77-43c6-b275-6666d3baeaee",
   "metadata": {},
   "outputs": [
    {
     "name": "stdout",
     "output_type": "stream",
     "text": [
      "serving cus1\n",
      "serving cus2\n",
      "serving cus3\n",
      "serving cus4\n",
      "serving cus5\n"
     ]
    }
   ],
   "source": [
    "while checkout:\n",
    "    customer = checkout.popleft()\n",
    "    print(\"serving\", customer)"
   ]
  },
  {
   "cell_type": "code",
   "execution_count": 21,
   "id": "6bfd364d-21cc-4380-8d52-69bb8c269f80",
   "metadata": {},
   "outputs": [
    {
     "name": "stdout",
     "output_type": "stream",
     "text": [
      "printing Print the 1 pdf\n",
      "printing Print the 2 pdf\n",
      "printing Print the 3 pdf\n",
      "printing Print the 4 pdf\n",
      "printing Print the 5 pdf\n"
     ]
    }
   ],
   "source": [
    "from queue import Queue\n",
    "print_queue = Queue()\n",
    "print_queue.put(\"Print the 1 pdf\") #put is similar to push\n",
    "print_queue.put(\"Print the 2 pdf\")\n",
    "print_queue.put(\"Print the 3 pdf\")\n",
    "print_queue.put(\"Print the 4 pdf\")\n",
    "print_queue.put(\"Print the 5 pdf\")\n",
    "\n",
    "while not print_queue.empty():\n",
    "    print_job = print_queue.get() #get is similar pop\n",
    "    print(\"printing\",print_job)"
   ]
  },
  {
   "cell_type": "code",
   "execution_count": null,
   "id": "0c8e20e5-547d-41f2-9bea-55acb91fb378",
   "metadata": {},
   "outputs": [],
   "source": []
  }
 ],
 "metadata": {
  "kernelspec": {
   "display_name": "Python 3 (ipykernel)",
   "language": "python",
   "name": "python3"
  },
  "language_info": {
   "codemirror_mode": {
    "name": "ipython",
    "version": 3
   },
   "file_extension": ".py",
   "mimetype": "text/x-python",
   "name": "python",
   "nbconvert_exporter": "python",
   "pygments_lexer": "ipython3",
   "version": "3.12.7"
  }
 },
 "nbformat": 4,
 "nbformat_minor": 5
}
