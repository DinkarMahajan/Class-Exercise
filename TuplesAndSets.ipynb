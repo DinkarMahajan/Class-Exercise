{
 "cells": [
  {
   "cell_type": "code",
   "execution_count": null,
   "id": "9b2f73f4-0d3b-4736-aa35-02d4cfbf79cd",
   "metadata": {},
   "outputs": [],
   "source": [
    "#Tuples are ordered collections of elements, heterogenous\n",
    "#Tuples are immutable"
   ]
  },
  {
   "cell_type": "code",
   "execution_count": 5,
   "id": "949a5581-a21d-4830-9a63-d891cd373e32",
   "metadata": {},
   "outputs": [],
   "source": [
    "t = ()"
   ]
  },
  {
   "cell_type": "code",
   "execution_count": 7,
   "id": "8705cfc9-9e66-4359-912f-d82c06b2c3c0",
   "metadata": {},
   "outputs": [
    {
     "data": {
      "text/plain": [
       "tuple"
      ]
     },
     "execution_count": 7,
     "metadata": {},
     "output_type": "execute_result"
    }
   ],
   "source": [
    "type(t)"
   ]
  },
  {
   "cell_type": "code",
   "execution_count": 9,
   "id": "00ccf8a7-c72d-4f37-9183-19bffb8f4e86",
   "metadata": {},
   "outputs": [],
   "source": [
    "t = (\"pwskills\",\"Ajay\",2,2.3,True,3+5j)"
   ]
  },
  {
   "cell_type": "code",
   "execution_count": 11,
   "id": "e43a325e-06be-42f6-8304-ac5cbfda1b25",
   "metadata": {},
   "outputs": [
    {
     "data": {
      "text/plain": [
       "tuple"
      ]
     },
     "execution_count": 11,
     "metadata": {},
     "output_type": "execute_result"
    }
   ],
   "source": [
    "type(t)"
   ]
  },
  {
   "cell_type": "code",
   "execution_count": 13,
   "id": "69e1eb5f-b5e0-42bb-8e9a-10a21467171c",
   "metadata": {},
   "outputs": [
    {
     "data": {
      "text/plain": [
       "'pwskills'"
      ]
     },
     "execution_count": 13,
     "metadata": {},
     "output_type": "execute_result"
    }
   ],
   "source": [
    "t[0]"
   ]
  },
  {
   "cell_type": "code",
   "execution_count": 15,
   "id": "6fa267e3-60aa-4e0b-8924-0eab0f94a0f7",
   "metadata": {},
   "outputs": [
    {
     "data": {
      "text/plain": [
       "(3+5j)"
      ]
     },
     "execution_count": 15,
     "metadata": {},
     "output_type": "execute_result"
    }
   ],
   "source": [
    "t[-1]"
   ]
  },
  {
   "cell_type": "code",
   "execution_count": 17,
   "id": "be668ecb-9137-4301-9adb-4e43d4e2da8f",
   "metadata": {},
   "outputs": [
    {
     "data": {
      "text/plain": [
       "'pwskills'"
      ]
     },
     "execution_count": 17,
     "metadata": {},
     "output_type": "execute_result"
    }
   ],
   "source": [
    "#Tuples are immutable\n",
    "t[0]"
   ]
  },
  {
   "cell_type": "code",
   "execution_count": 19,
   "id": "0d986b39-9f8a-41a1-ae06-db39de90637c",
   "metadata": {},
   "outputs": [
    {
     "ename": "TypeError",
     "evalue": "'tuple' object does not support item assignment",
     "output_type": "error",
     "traceback": [
      "\u001b[1;31m---------------------------------------------------------------------------\u001b[0m",
      "\u001b[1;31mTypeError\u001b[0m                                 Traceback (most recent call last)",
      "Cell \u001b[1;32mIn[19], line 1\u001b[0m\n\u001b[1;32m----> 1\u001b[0m t[\u001b[38;5;241m0\u001b[39m] \u001b[38;5;241m=\u001b[39m \u001b[38;5;241m100\u001b[39m\n",
      "\u001b[1;31mTypeError\u001b[0m: 'tuple' object does not support item assignment"
     ]
    }
   ],
   "source": [
    "t[0] = 100"
   ]
  },
  {
   "cell_type": "code",
   "execution_count": 21,
   "id": "64d05bac-7433-401e-a566-8effa4ada4b9",
   "metadata": {},
   "outputs": [
    {
     "ename": "TypeError",
     "evalue": "'tuple' object does not support item assignment",
     "output_type": "error",
     "traceback": [
      "\u001b[1;31m---------------------------------------------------------------------------\u001b[0m",
      "\u001b[1;31mTypeError\u001b[0m                                 Traceback (most recent call last)",
      "Cell \u001b[1;32mIn[21], line 2\u001b[0m\n\u001b[0;32m      1\u001b[0m empid \u001b[38;5;241m=\u001b[39m (\u001b[38;5;241m1\u001b[39m,\u001b[38;5;241m2\u001b[39m,\u001b[38;5;241m3\u001b[39m,\u001b[38;5;241m4\u001b[39m,\u001b[38;5;241m5\u001b[39m)\n\u001b[1;32m----> 2\u001b[0m empid[\u001b[38;5;241m1\u001b[39m] \u001b[38;5;241m=\u001b[39m \u001b[38;5;241m100\u001b[39m\n",
      "\u001b[1;31mTypeError\u001b[0m: 'tuple' object does not support item assignment"
     ]
    }
   ],
   "source": [
    "#use >> use tuples as a data structure where you don't want to modify the data\n",
    "empid = (1,2,3,4,5)\n",
    "empid[1] = 100"
   ]
  },
  {
   "cell_type": "code",
   "execution_count": 25,
   "id": "d419e4f4-176b-403c-9a3a-202f7c272723",
   "metadata": {},
   "outputs": [
    {
     "data": {
      "text/plain": [
       "3"
      ]
     },
     "execution_count": 25,
     "metadata": {},
     "output_type": "execute_result"
    }
   ],
   "source": [
    "tuple1 = (\"pwskills\",1,1,1,2,\"pwskills\",2.2)\n",
    "tuple1.count(1)"
   ]
  },
  {
   "cell_type": "code",
   "execution_count": 27,
   "id": "cb98cb10-4c40-4231-9e95-68ecfe16c164",
   "metadata": {},
   "outputs": [
    {
     "data": {
      "text/plain": [
       "2"
      ]
     },
     "execution_count": 27,
     "metadata": {},
     "output_type": "execute_result"
    }
   ],
   "source": [
    "tuple1.count(\"pwskills\")"
   ]
  },
  {
   "cell_type": "code",
   "execution_count": 29,
   "id": "db43290a-a338-4b6d-a93a-fd64004ea2b7",
   "metadata": {},
   "outputs": [
    {
     "data": {
      "text/plain": [
       "0"
      ]
     },
     "execution_count": 29,
     "metadata": {},
     "output_type": "execute_result"
    }
   ],
   "source": [
    "tuple1.index(\"pwskills\")"
   ]
  },
  {
   "cell_type": "code",
   "execution_count": 31,
   "id": "041ca7df-7839-44d7-9797-53fdf7c08110",
   "metadata": {},
   "outputs": [
    {
     "name": "stdout",
     "output_type": "stream",
     "text": [
      "('pwskills', 1, 1, 1, 2, 'pwskills', 2.2, 'pwskills', 1, 1, 1, 2, 'pwskills', 2.2)\n"
     ]
    }
   ],
   "source": [
    "print(tuple1*2)"
   ]
  },
  {
   "cell_type": "code",
   "execution_count": 33,
   "id": "36746674-5883-4396-b7da-82434c4f43cf",
   "metadata": {},
   "outputs": [
    {
     "data": {
      "text/plain": [
       "('pwskills', 1, 1, 1, 2, 'pwskills', 2.2)"
      ]
     },
     "execution_count": 33,
     "metadata": {},
     "output_type": "execute_result"
    }
   ],
   "source": [
    "tuple1"
   ]
  },
  {
   "cell_type": "code",
   "execution_count": 35,
   "id": "48411fd0-030a-4e18-9aab-dcbead7d7111",
   "metadata": {},
   "outputs": [
    {
     "data": {
      "text/plain": [
       "('pwskills', 1, 1, 1)"
      ]
     },
     "execution_count": 35,
     "metadata": {},
     "output_type": "execute_result"
    }
   ],
   "source": [
    "tuple1[0:4]"
   ]
  },
  {
   "cell_type": "code",
   "execution_count": 39,
   "id": "8f391081-7d11-4076-b7c1-cfd00ac91ecf",
   "metadata": {},
   "outputs": [
    {
     "data": {
      "text/plain": [
       "(2.2, 'pwskills', 2, 1, 1, 1, 'pwskills')"
      ]
     },
     "execution_count": 39,
     "metadata": {},
     "output_type": "execute_result"
    }
   ],
   "source": [
    "tuple1[::-1]"
   ]
  },
  {
   "cell_type": "code",
   "execution_count": 41,
   "id": "9282702e-bd18-4bea-8378-38df96199d63",
   "metadata": {},
   "outputs": [
    {
     "name": "stdout",
     "output_type": "stream",
     "text": [
      "pwskills <class 'str'>\n",
      "1 <class 'int'>\n",
      "1 <class 'int'>\n",
      "1 <class 'int'>\n",
      "2 <class 'int'>\n",
      "pwskills <class 'str'>\n",
      "2.2 <class 'float'>\n"
     ]
    }
   ],
   "source": [
    "for i in tuple1:\n",
    "    print(i,type(i))"
   ]
  },
  {
   "cell_type": "code",
   "execution_count": 43,
   "id": "06958637-a72c-458b-ae46-ee28d360f47b",
   "metadata": {},
   "outputs": [
    {
     "data": {
      "text/plain": [
       "200"
      ]
     },
     "execution_count": 43,
     "metadata": {},
     "output_type": "execute_result"
    }
   ],
   "source": [
    "t1 = (1,2,100,0,200)\n",
    "max(t1)"
   ]
  },
  {
   "cell_type": "code",
   "execution_count": 45,
   "id": "718d793c-0d6c-4aab-8a6f-ec86a73c9277",
   "metadata": {},
   "outputs": [
    {
     "data": {
      "text/plain": [
       "0"
      ]
     },
     "execution_count": 45,
     "metadata": {},
     "output_type": "execute_result"
    }
   ],
   "source": [
    "min(t1)"
   ]
  },
  {
   "cell_type": "code",
   "execution_count": 47,
   "id": "f12894b1-ce13-48bb-a89e-8a26ab76fd6b",
   "metadata": {},
   "outputs": [],
   "source": [
    "t2 = (101,201)"
   ]
  },
  {
   "cell_type": "code",
   "execution_count": 49,
   "id": "8a072253-64ab-4453-8042-896aa20a6544",
   "metadata": {},
   "outputs": [
    {
     "data": {
      "text/plain": [
       "(101, 201)"
      ]
     },
     "execution_count": 49,
     "metadata": {},
     "output_type": "execute_result"
    }
   ],
   "source": [
    "t2"
   ]
  },
  {
   "cell_type": "code",
   "execution_count": 51,
   "id": "64e88e28-429a-4f57-8b64-957fd7443e66",
   "metadata": {},
   "outputs": [
    {
     "data": {
      "text/plain": [
       "(1, 2, 100, 0, 200)"
      ]
     },
     "execution_count": 51,
     "metadata": {},
     "output_type": "execute_result"
    }
   ],
   "source": [
    "t1"
   ]
  },
  {
   "cell_type": "code",
   "execution_count": 53,
   "id": "72bd9969-da3f-4158-b668-a50db5db90ac",
   "metadata": {},
   "outputs": [],
   "source": [
    "t3 = (t1,t2) #nested tuples"
   ]
  },
  {
   "cell_type": "code",
   "execution_count": 55,
   "id": "7e1c4100-1095-478f-8a9a-200eda7bc994",
   "metadata": {},
   "outputs": [
    {
     "data": {
      "text/plain": [
       "((1, 2, 100, 0, 200), (101, 201))"
      ]
     },
     "execution_count": 55,
     "metadata": {},
     "output_type": "execute_result"
    }
   ],
   "source": [
    "t3"
   ]
  },
  {
   "cell_type": "code",
   "execution_count": 57,
   "id": "fb0b20c2-860a-40c0-8705-af2a2dc1a4e8",
   "metadata": {},
   "outputs": [
    {
     "data": {
      "text/plain": [
       "tuple"
      ]
     },
     "execution_count": 57,
     "metadata": {},
     "output_type": "execute_result"
    }
   ],
   "source": [
    "type(t3)"
   ]
  },
  {
   "cell_type": "code",
   "execution_count": 59,
   "id": "86303e34-735a-4583-999d-82185c2b2473",
   "metadata": {},
   "outputs": [],
   "source": [
    "del t3"
   ]
  },
  {
   "cell_type": "code",
   "execution_count": 61,
   "id": "79ac4ccd-66ac-4851-8b8a-7aa441b3f98c",
   "metadata": {},
   "outputs": [
    {
     "ename": "NameError",
     "evalue": "name 't3' is not defined",
     "output_type": "error",
     "traceback": [
      "\u001b[1;31m---------------------------------------------------------------------------\u001b[0m",
      "\u001b[1;31mNameError\u001b[0m                                 Traceback (most recent call last)",
      "Cell \u001b[1;32mIn[61], line 1\u001b[0m\n\u001b[1;32m----> 1\u001b[0m t3\n",
      "\u001b[1;31mNameError\u001b[0m: name 't3' is not defined"
     ]
    }
   ],
   "source": [
    "t3"
   ]
  },
  {
   "cell_type": "code",
   "execution_count": 63,
   "id": "a3ab1ec5-d94f-43d0-9c78-c5377c710998",
   "metadata": {},
   "outputs": [
    {
     "data": {
      "text/plain": [
       "(1, 2, 100, 0, 200)"
      ]
     },
     "execution_count": 63,
     "metadata": {},
     "output_type": "execute_result"
    }
   ],
   "source": [
    "t1"
   ]
  },
  {
   "cell_type": "code",
   "execution_count": 65,
   "id": "79376300-4382-4235-b49d-456cd215604b",
   "metadata": {},
   "outputs": [
    {
     "data": {
      "text/plain": [
       "5"
      ]
     },
     "execution_count": 65,
     "metadata": {},
     "output_type": "execute_result"
    }
   ],
   "source": [
    "len(t1)"
   ]
  },
  {
   "cell_type": "code",
   "execution_count": 67,
   "id": "e08d1699-4023-4674-8819-2def4d22c054",
   "metadata": {},
   "outputs": [
    {
     "data": {
      "text/plain": [
       "True"
      ]
     },
     "execution_count": 67,
     "metadata": {},
     "output_type": "execute_result"
    }
   ],
   "source": [
    "1 in t1"
   ]
  },
  {
   "cell_type": "code",
   "execution_count": 69,
   "id": "3988113c-b603-495c-850b-feba15836229",
   "metadata": {},
   "outputs": [
    {
     "data": {
      "text/plain": [
       "('pwskills', 1, 1, 1, 2, 'pwskills', 2.2)"
      ]
     },
     "execution_count": 69,
     "metadata": {},
     "output_type": "execute_result"
    }
   ],
   "source": [
    "tuple1"
   ]
  },
  {
   "cell_type": "code",
   "execution_count": 71,
   "id": "f12122fc-1eee-466c-8144-d80cc374da11",
   "metadata": {},
   "outputs": [
    {
     "data": {
      "text/plain": [
       "True"
      ]
     },
     "execution_count": 71,
     "metadata": {},
     "output_type": "execute_result"
    }
   ],
   "source": [
    "\"pwskills\" in tuple1"
   ]
  },
  {
   "cell_type": "code",
   "execution_count": 73,
   "id": "19a507be-c703-4270-8091-d03c12e34e32",
   "metadata": {},
   "outputs": [
    {
     "data": {
      "text/plain": [
       "False"
      ]
     },
     "execution_count": 73,
     "metadata": {},
     "output_type": "execute_result"
    }
   ],
   "source": [
    "\"pwskills\" not in tuple1"
   ]
  },
  {
   "cell_type": "code",
   "execution_count": 75,
   "id": "6c7ac904-faa9-4c33-a0b9-975ec15e132c",
   "metadata": {},
   "outputs": [
    {
     "data": {
      "text/plain": [
       "(1, 2, 100, 0, 200)"
      ]
     },
     "execution_count": 75,
     "metadata": {},
     "output_type": "execute_result"
    }
   ],
   "source": [
    "t1"
   ]
  },
  {
   "cell_type": "code",
   "execution_count": 77,
   "id": "4491dfb9-a6db-4f00-ac3c-a7533b2764d9",
   "metadata": {},
   "outputs": [
    {
     "data": {
      "text/plain": [
       "(101, 201)"
      ]
     },
     "execution_count": 77,
     "metadata": {},
     "output_type": "execute_result"
    }
   ],
   "source": [
    "t2"
   ]
  },
  {
   "cell_type": "code",
   "execution_count": 79,
   "id": "6954f99b-e539-40fd-8370-03f7abbde078",
   "metadata": {},
   "outputs": [
    {
     "data": {
      "text/plain": [
       "(1, 2, 100, 0, 200, 101, 201)"
      ]
     },
     "execution_count": 79,
     "metadata": {},
     "output_type": "execute_result"
    }
   ],
   "source": [
    "#combine both the tuples\n",
    "t1+t2"
   ]
  },
  {
   "cell_type": "code",
   "execution_count": 83,
   "id": "df3f1f77-52c3-4f47-80c1-936fbbd5b2ef",
   "metadata": {},
   "outputs": [],
   "source": [
    "#sets >> sets are unordered and unique collection of elements.\n",
    "#doesn't allow duplicate elements\n",
    "#unordered >> indexing will not work"
   ]
  },
  {
   "cell_type": "code",
   "execution_count": 85,
   "id": "f221bd44-0ecc-4a35-a340-f533b39f9a9e",
   "metadata": {},
   "outputs": [
    {
     "data": {
      "text/plain": [
       "dict"
      ]
     },
     "execution_count": 85,
     "metadata": {},
     "output_type": "execute_result"
    }
   ],
   "source": [
    "s = {}\n",
    "type(s)"
   ]
  },
  {
   "cell_type": "code",
   "execution_count": 87,
   "id": "da074603-4dee-4409-9e1f-9347f5c88d12",
   "metadata": {},
   "outputs": [
    {
     "data": {
      "text/plain": [
       "set"
      ]
     },
     "execution_count": 87,
     "metadata": {},
     "output_type": "execute_result"
    }
   ],
   "source": [
    "s = {1}\n",
    "type(s)"
   ]
  },
  {
   "cell_type": "code",
   "execution_count": 89,
   "id": "fddc27d0-9365-4ada-a189-94a1c7751170",
   "metadata": {},
   "outputs": [],
   "source": [
    "s = {1,2,3,4}"
   ]
  },
  {
   "cell_type": "code",
   "execution_count": 91,
   "id": "d2cd6a6b-1bc0-4131-b6ed-6a9bf04c75aa",
   "metadata": {},
   "outputs": [
    {
     "data": {
      "text/plain": [
       "set"
      ]
     },
     "execution_count": 91,
     "metadata": {},
     "output_type": "execute_result"
    }
   ],
   "source": [
    "type(s)"
   ]
  },
  {
   "cell_type": "code",
   "execution_count": 93,
   "id": "20505673-3ca6-4fab-b195-fe4195ecaf47",
   "metadata": {},
   "outputs": [
    {
     "data": {
      "text/plain": [
       "{1, 2, 'Ajay', 'ajay'}"
      ]
     },
     "execution_count": 93,
     "metadata": {},
     "output_type": "execute_result"
    }
   ],
   "source": [
    "s = {1,2,1,2,2,\"Ajay\",\"Ajay\",\"Ajay\",\"ajay\",\"ajay\"}\n",
    "s"
   ]
  },
  {
   "cell_type": "code",
   "execution_count": 95,
   "id": "1183797c-e235-4175-91b2-23763c325cce",
   "metadata": {},
   "outputs": [
    {
     "data": {
      "text/plain": [
       "[1, 2, 3, 'Brinjal', 'Brinjal', 'Apple', 'Apple']"
      ]
     },
     "execution_count": 95,
     "metadata": {},
     "output_type": "execute_result"
    }
   ],
   "source": [
    "#use case\n",
    "list1 = [1,2,3,\"Brinjal\",\"Brinjal\",\"Apple\",\"Apple\"]\n",
    "list1"
   ]
  },
  {
   "cell_type": "code",
   "execution_count": 97,
   "id": "69b2224f-21c6-4896-b73b-d2fcaa194698",
   "metadata": {},
   "outputs": [
    {
     "data": {
      "text/plain": [
       "{1, 2, 3, 'Apple', 'Brinjal'}"
      ]
     },
     "execution_count": 97,
     "metadata": {},
     "output_type": "execute_result"
    }
   ],
   "source": [
    "set(list1)"
   ]
  },
  {
   "cell_type": "code",
   "execution_count": 99,
   "id": "da36f551-0e9d-4d6a-ac33-06d50084fbe7",
   "metadata": {},
   "outputs": [],
   "source": [
    "list1 = list(s)"
   ]
  },
  {
   "cell_type": "code",
   "execution_count": 101,
   "id": "2383851c-1733-42f3-8e4b-cb735840f4be",
   "metadata": {},
   "outputs": [
    {
     "data": {
      "text/plain": [
       "[1, 2, 'ajay', 'Ajay']"
      ]
     },
     "execution_count": 101,
     "metadata": {},
     "output_type": "execute_result"
    }
   ],
   "source": [
    "list1"
   ]
  },
  {
   "cell_type": "code",
   "execution_count": 103,
   "id": "465f9e78-9c1a-4bc3-a9cb-0a89d3d30d47",
   "metadata": {},
   "outputs": [
    {
     "data": {
      "text/plain": [
       "{1, 2, 'Ajay', 'ajay'}"
      ]
     },
     "execution_count": 103,
     "metadata": {},
     "output_type": "execute_result"
    }
   ],
   "source": [
    "s"
   ]
  },
  {
   "cell_type": "code",
   "execution_count": 105,
   "id": "a23d62b8-d8bd-4e7e-b392-2d47e9fdb895",
   "metadata": {},
   "outputs": [
    {
     "ename": "TypeError",
     "evalue": "'set' object is not subscriptable",
     "output_type": "error",
     "traceback": [
      "\u001b[1;31m---------------------------------------------------------------------------\u001b[0m",
      "\u001b[1;31mTypeError\u001b[0m                                 Traceback (most recent call last)",
      "Cell \u001b[1;32mIn[105], line 1\u001b[0m\n\u001b[1;32m----> 1\u001b[0m s[\u001b[38;5;241m0\u001b[39m]\n",
      "\u001b[1;31mTypeError\u001b[0m: 'set' object is not subscriptable"
     ]
    }
   ],
   "source": [
    "s[0]"
   ]
  },
  {
   "cell_type": "code",
   "execution_count": 107,
   "id": "e050a089-0d57-4e93-97c6-52f96c193daa",
   "metadata": {},
   "outputs": [
    {
     "data": {
      "text/plain": [
       "{1, 2, 3, 4}"
      ]
     },
     "execution_count": 107,
     "metadata": {},
     "output_type": "execute_result"
    }
   ],
   "source": [
    "s = {1,1,2,2,3,4}\n",
    "s"
   ]
  },
  {
   "cell_type": "code",
   "execution_count": 111,
   "id": "671b366e-8a34-4b3c-a342-8142262750c9",
   "metadata": {},
   "outputs": [
    {
     "ename": "TypeError",
     "evalue": "unhashable type: 'set'",
     "output_type": "error",
     "traceback": [
      "\u001b[1;31m---------------------------------------------------------------------------\u001b[0m",
      "\u001b[1;31mTypeError\u001b[0m                                 Traceback (most recent call last)",
      "Cell \u001b[1;32mIn[111], line 1\u001b[0m\n\u001b[1;32m----> 1\u001b[0m s \u001b[38;5;241m=\u001b[39m {\u001b[38;5;241m1\u001b[39m,\u001b[38;5;241m2\u001b[39m,\u001b[38;5;241m3\u001b[39m,\u001b[38;5;241m4\u001b[39m,\u001b[38;5;241m5\u001b[39m,{\u001b[38;5;241m4\u001b[39m,\u001b[38;5;241m5\u001b[39m,\u001b[38;5;241m6\u001b[39m}}\n",
      "\u001b[1;31mTypeError\u001b[0m: unhashable type: 'set'"
     ]
    }
   ],
   "source": [
    "s = {1,2,3,4,5,{4,5,6}} #set inside set must be immutable"
   ]
  },
  {
   "cell_type": "code",
   "execution_count": 113,
   "id": "ef063357-52ef-41e5-b927-4241ecb85937",
   "metadata": {},
   "outputs": [],
   "source": [
    "#unhashable type >> it is mutable- list , set"
   ]
  },
  {
   "cell_type": "code",
   "execution_count": 117,
   "id": "c0f8fea6-bd11-4836-aedd-f8694c322d18",
   "metadata": {},
   "outputs": [
    {
     "data": {
      "text/plain": [
       "{(4, 5, 6), 1, 2, 3, 4, 5}"
      ]
     },
     "execution_count": 117,
     "metadata": {},
     "output_type": "execute_result"
    }
   ],
   "source": [
    "{1,2,3,4,5,(4,5,6)} #it didn't throw error, because tuple is immutable"
   ]
  },
  {
   "cell_type": "code",
   "execution_count": 121,
   "id": "7a768c31-7c0a-41bf-a320-10be7d3ba715",
   "metadata": {},
   "outputs": [],
   "source": [
    "#immutable data structure has a stable hash values like tuples"
   ]
  },
  {
   "cell_type": "code",
   "execution_count": 123,
   "id": "9cd21cb5-834b-4421-a074-52599abed569",
   "metadata": {},
   "outputs": [
    {
     "data": {
      "text/plain": [
       "{1, 2, 3, 4}"
      ]
     },
     "execution_count": 123,
     "metadata": {},
     "output_type": "execute_result"
    }
   ],
   "source": [
    "s #not indexed and not slicing"
   ]
  },
  {
   "cell_type": "code",
   "execution_count": 125,
   "id": "286c6f9d-fdc1-422e-9c29-ac626da3e15a",
   "metadata": {},
   "outputs": [
    {
     "name": "stdout",
     "output_type": "stream",
     "text": [
      "1\n",
      "2\n",
      "3\n",
      "4\n"
     ]
    }
   ],
   "source": [
    "for i in s:\n",
    "    print(i)"
   ]
  },
  {
   "cell_type": "code",
   "execution_count": 127,
   "id": "e009c312-991c-4ef4-b7b1-79ebf61038d1",
   "metadata": {},
   "outputs": [
    {
     "data": {
      "text/plain": [
       "{1, 2, 3, 4}"
      ]
     },
     "execution_count": 127,
     "metadata": {},
     "output_type": "execute_result"
    }
   ],
   "source": [
    "#set is mutable\n",
    "s"
   ]
  },
  {
   "cell_type": "code",
   "execution_count": 129,
   "id": "c73e9177-189b-4116-9818-d444c816fdc1",
   "metadata": {},
   "outputs": [
    {
     "data": {
      "text/plain": [
       "{1, 2, 3, 4, 100}"
      ]
     },
     "execution_count": 129,
     "metadata": {},
     "output_type": "execute_result"
    }
   ],
   "source": [
    "s.add(100)\n",
    "s"
   ]
  },
  {
   "cell_type": "code",
   "execution_count": 131,
   "id": "dca52635-6e59-45b8-a56e-4615975b9f18",
   "metadata": {},
   "outputs": [
    {
     "data": {
      "text/plain": [
       "{1, 2, 3, 4, 5, 100}"
      ]
     },
     "execution_count": 131,
     "metadata": {},
     "output_type": "execute_result"
    }
   ],
   "source": [
    "s.add(5) #not compulsary it will add to the last of set\n",
    "s"
   ]
  },
  {
   "cell_type": "code",
   "execution_count": 133,
   "id": "2a1b4a6b-49ab-4678-bb0f-a5982dba21c5",
   "metadata": {},
   "outputs": [
    {
     "data": {
      "text/plain": [
       "{2, 3, 4, 5, 100}"
      ]
     },
     "execution_count": 133,
     "metadata": {},
     "output_type": "execute_result"
    }
   ],
   "source": [
    "s.pop() #it is not compulsary that it will remove the last element\n",
    "s"
   ]
  },
  {
   "cell_type": "code",
   "execution_count": 135,
   "id": "b86be32e-5528-40a1-8d4b-376e8f7bf899",
   "metadata": {},
   "outputs": [],
   "source": [
    "s.remove(3) #removes a specific "
   ]
  },
  {
   "cell_type": "code",
   "execution_count": 137,
   "id": "0caeb35e-c09a-4742-b123-e7143dad4d4e",
   "metadata": {},
   "outputs": [
    {
     "data": {
      "text/plain": [
       "{2, 4, 5, 100}"
      ]
     },
     "execution_count": 137,
     "metadata": {},
     "output_type": "execute_result"
    }
   ],
   "source": [
    "s"
   ]
  },
  {
   "cell_type": "code",
   "execution_count": 139,
   "id": "a24a8a43-f09a-4635-a131-2ee88aae283a",
   "metadata": {},
   "outputs": [
    {
     "ename": "TypeError",
     "evalue": "set.pop() takes no arguments (1 given)",
     "output_type": "error",
     "traceback": [
      "\u001b[1;31m---------------------------------------------------------------------------\u001b[0m",
      "\u001b[1;31mTypeError\u001b[0m                                 Traceback (most recent call last)",
      "Cell \u001b[1;32mIn[139], line 1\u001b[0m\n\u001b[1;32m----> 1\u001b[0m s\u001b[38;5;241m.\u001b[39mpop(\u001b[38;5;241m4\u001b[39m)\n",
      "\u001b[1;31mTypeError\u001b[0m: set.pop() takes no arguments (1 given)"
     ]
    }
   ],
   "source": [
    "s.pop(4) #it removes randomly"
   ]
  },
  {
   "cell_type": "code",
   "execution_count": 143,
   "id": "75a47d18-f7d1-4000-8840-ea5b892ee74f",
   "metadata": {},
   "outputs": [
    {
     "data": {
      "text/plain": [
       "{100, 2, 4, 5, 'A', 'a', 'j', 'y'}"
      ]
     },
     "execution_count": 143,
     "metadata": {},
     "output_type": "execute_result"
    }
   ],
   "source": [
    "s.update(\"Ajay\") #update take iterable\n",
    "s"
   ]
  },
  {
   "cell_type": "code",
   "execution_count": 145,
   "id": "40bc2ff8-ec37-4392-bd94-e69a07a17d6a",
   "metadata": {},
   "outputs": [],
   "source": [
    "s.update([\"Ajay\"])"
   ]
  },
  {
   "cell_type": "code",
   "execution_count": 147,
   "id": "4be0f565-fbc5-432f-af66-2bbe27c7bfe2",
   "metadata": {},
   "outputs": [
    {
     "data": {
      "text/plain": [
       "{100, 2, 4, 5, 'A', 'Ajay', 'a', 'j', 'y'}"
      ]
     },
     "execution_count": 147,
     "metadata": {},
     "output_type": "execute_result"
    }
   ],
   "source": [
    "s"
   ]
  },
  {
   "cell_type": "code",
   "execution_count": 149,
   "id": "d8e48125-5b1f-438f-bd2b-f796993f9341",
   "metadata": {},
   "outputs": [
    {
     "data": {
      "text/plain": [
       "set"
      ]
     },
     "execution_count": 149,
     "metadata": {},
     "output_type": "execute_result"
    }
   ],
   "source": [
    "s = {(1,2,3),100,'2',3.4}\n",
    "type(s)"
   ]
  },
  {
   "cell_type": "code",
   "execution_count": 151,
   "id": "85a1bc35-b42e-4a6c-b5d2-472697ee8733",
   "metadata": {},
   "outputs": [
    {
     "data": {
      "text/plain": [
       "set()"
      ]
     },
     "execution_count": 151,
     "metadata": {},
     "output_type": "execute_result"
    }
   ],
   "source": [
    "s.clear()\n",
    "s"
   ]
  },
  {
   "cell_type": "code",
   "execution_count": 153,
   "id": "e8cea823-b022-4abf-9a56-722bd6b8d48e",
   "metadata": {},
   "outputs": [],
   "source": [
    "del s"
   ]
  },
  {
   "cell_type": "code",
   "execution_count": 155,
   "id": "1147c779-364d-48cd-8d89-eb769edc19f5",
   "metadata": {},
   "outputs": [],
   "source": [
    "s = {(1,2,3),100,'2',3.4}"
   ]
  },
  {
   "cell_type": "code",
   "execution_count": 159,
   "id": "6eb3a046-81be-477f-80be-7803930a25dd",
   "metadata": {},
   "outputs": [
    {
     "ename": "KeyError",
     "evalue": "101",
     "output_type": "error",
     "traceback": [
      "\u001b[1;31m---------------------------------------------------------------------------\u001b[0m",
      "\u001b[1;31mKeyError\u001b[0m                                  Traceback (most recent call last)",
      "Cell \u001b[1;32mIn[159], line 1\u001b[0m\n\u001b[1;32m----> 1\u001b[0m s\u001b[38;5;241m.\u001b[39mremove(\u001b[38;5;241m101\u001b[39m) \u001b[38;5;66;03m#throw an error\u001b[39;00m\n\u001b[0;32m      2\u001b[0m s\n",
      "\u001b[1;31mKeyError\u001b[0m: 101"
     ]
    }
   ],
   "source": [
    "s.remove(101) #throw an error\n",
    "s"
   ]
  },
  {
   "cell_type": "code",
   "execution_count": 161,
   "id": "bf2673c2-2577-45f7-9550-ec8089ae4947",
   "metadata": {},
   "outputs": [
    {
     "data": {
      "text/plain": [
       "{(1, 2, 3), 100, '2', 3.4}"
      ]
     },
     "execution_count": 161,
     "metadata": {},
     "output_type": "execute_result"
    }
   ],
   "source": [
    "s"
   ]
  },
  {
   "cell_type": "code",
   "execution_count": 163,
   "id": "7b608ed3-7a33-4d78-8942-85b83149e8ac",
   "metadata": {},
   "outputs": [
    {
     "data": {
      "text/plain": [
       "{(1, 2, 3), '2', 3.4}"
      ]
     },
     "execution_count": 163,
     "metadata": {},
     "output_type": "execute_result"
    }
   ],
   "source": [
    "s.discard(100)\n",
    "s"
   ]
  },
  {
   "cell_type": "code",
   "execution_count": 167,
   "id": "0d83897e-5a4b-4047-a325-f6106bdb048e",
   "metadata": {},
   "outputs": [],
   "source": [
    "s.discard(110) #error will not be thrown"
   ]
  },
  {
   "cell_type": "code",
   "execution_count": 169,
   "id": "c339fbdf-288d-4fd6-b174-b09995a13889",
   "metadata": {},
   "outputs": [
    {
     "data": {
      "text/plain": [
       "{(1, 2, 3), '2', 3.4}"
      ]
     },
     "execution_count": 169,
     "metadata": {},
     "output_type": "execute_result"
    }
   ],
   "source": [
    "s"
   ]
  },
  {
   "cell_type": "code",
   "execution_count": 171,
   "id": "c01c2746-d3e4-49e2-87b3-d8a38381b780",
   "metadata": {},
   "outputs": [],
   "source": [
    "# set operation "
   ]
  },
  {
   "cell_type": "code",
   "execution_count": 173,
   "id": "6bf33d4e-f3ad-4ef3-a1e3-ec00ca806e30",
   "metadata": {},
   "outputs": [],
   "source": [
    "#Union: Combines elements from two sets excluding duplicates\n",
    "#Intersection: Only common element between sets\n",
    "#Difference: Return the elements that is present in first set and not in second\n",
    "#Symmetric Difference: Returns elements that are present in either of sets but not in both"
   ]
  },
  {
   "cell_type": "code",
   "execution_count": 175,
   "id": "46c0594a-ce9a-42a0-8404-848bf693406e",
   "metadata": {},
   "outputs": [],
   "source": [
    "s1 = {\"hiking\",\"reading\",\"coding\"}\n",
    "s2 = {\"coding\",\"photography\",\"travelling\"}"
   ]
  },
  {
   "cell_type": "code",
   "execution_count": 177,
   "id": "ebb7bacf-4300-428e-93ac-d37730fda6aa",
   "metadata": {},
   "outputs": [
    {
     "data": {
      "text/plain": [
       "{'coding', 'hiking', 'reading'}"
      ]
     },
     "execution_count": 177,
     "metadata": {},
     "output_type": "execute_result"
    }
   ],
   "source": [
    "s1"
   ]
  },
  {
   "cell_type": "code",
   "execution_count": 179,
   "id": "c32eab92-98f8-4771-9bfa-ecb1689df660",
   "metadata": {},
   "outputs": [
    {
     "data": {
      "text/plain": [
       "{'coding', 'photography', 'travelling'}"
      ]
     },
     "execution_count": 179,
     "metadata": {},
     "output_type": "execute_result"
    }
   ],
   "source": [
    "s2"
   ]
  },
  {
   "cell_type": "code",
   "execution_count": 181,
   "id": "c3264255-5db6-44e9-a035-8f3c2dcdedda",
   "metadata": {},
   "outputs": [
    {
     "data": {
      "text/plain": [
       "{'coding', 'hiking', 'photography', 'reading', 'travelling'}"
      ]
     },
     "execution_count": 181,
     "metadata": {},
     "output_type": "execute_result"
    }
   ],
   "source": [
    "#union >> combine all the elements\n",
    "s1 | s2"
   ]
  },
  {
   "cell_type": "code",
   "execution_count": 183,
   "id": "33ee8a26-5099-4a1b-9069-628fc8381617",
   "metadata": {},
   "outputs": [
    {
     "data": {
      "text/plain": [
       "{'coding'}"
      ]
     },
     "execution_count": 183,
     "metadata": {},
     "output_type": "execute_result"
    }
   ],
   "source": [
    "#intersection >> common elements\n",
    "s1 & s2"
   ]
  },
  {
   "cell_type": "code",
   "execution_count": 185,
   "id": "2818f25d-7eb4-4a04-99f2-b8066d51596e",
   "metadata": {},
   "outputs": [
    {
     "data": {
      "text/plain": [
       "{'hiking', 'reading'}"
      ]
     },
     "execution_count": 185,
     "metadata": {},
     "output_type": "execute_result"
    }
   ],
   "source": [
    "#Difference \n",
    "s1-s2"
   ]
  },
  {
   "cell_type": "code",
   "execution_count": 187,
   "id": "7ed0a341-403f-4bef-aa46-e420b0dc8beb",
   "metadata": {},
   "outputs": [
    {
     "data": {
      "text/plain": [
       "{'hiking', 'photography', 'reading', 'travelling'}"
      ]
     },
     "execution_count": 187,
     "metadata": {},
     "output_type": "execute_result"
    }
   ],
   "source": [
    "#symmetric difference\n",
    "s1 ^ s2"
   ]
  },
  {
   "cell_type": "code",
   "execution_count": 195,
   "id": "488ee437-0151-4c30-8b9d-67dccf269ea4",
   "metadata": {},
   "outputs": [],
   "source": [
    "# Frozen sets >> immutable version of set , cannot be added or removed any new element"
   ]
  },
  {
   "cell_type": "code",
   "execution_count": 197,
   "id": "8d0c1a7a-efda-4e65-a6cf-bb6a231b2929",
   "metadata": {},
   "outputs": [],
   "source": [
    "s = {1,2,3}\n",
    "s.add(100)"
   ]
  },
  {
   "cell_type": "code",
   "execution_count": 199,
   "id": "f88b9abe-fb28-4733-a3c4-e241db7d53ef",
   "metadata": {},
   "outputs": [
    {
     "data": {
      "text/plain": [
       "{1, 2, 3, 100}"
      ]
     },
     "execution_count": 199,
     "metadata": {},
     "output_type": "execute_result"
    }
   ],
   "source": [
    "s"
   ]
  },
  {
   "cell_type": "code",
   "execution_count": 202,
   "id": "90d999e8-33f1-4f6d-945f-fdd53747a041",
   "metadata": {},
   "outputs": [],
   "source": [
    "my_fs = frozenset([1,2,2,2,3,3,4,5])"
   ]
  },
  {
   "cell_type": "code",
   "execution_count": 204,
   "id": "3d0bf8e4-bee1-4bab-9439-ed204cb42088",
   "metadata": {},
   "outputs": [
    {
     "data": {
      "text/plain": [
       "frozenset({1, 2, 3, 4, 5})"
      ]
     },
     "execution_count": 204,
     "metadata": {},
     "output_type": "execute_result"
    }
   ],
   "source": [
    "my_fs"
   ]
  },
  {
   "cell_type": "code",
   "execution_count": 206,
   "id": "5e7940c6-49d2-4c5a-b946-fd9bf89207d4",
   "metadata": {},
   "outputs": [
    {
     "data": {
      "text/plain": [
       "frozenset"
      ]
     },
     "execution_count": 206,
     "metadata": {},
     "output_type": "execute_result"
    }
   ],
   "source": [
    "type(my_fs)"
   ]
  },
  {
   "cell_type": "code",
   "execution_count": 208,
   "id": "ca8b15d5-a81c-4f72-912d-73029bf51a2e",
   "metadata": {},
   "outputs": [
    {
     "ename": "AttributeError",
     "evalue": "'frozenset' object has no attribute 'add'",
     "output_type": "error",
     "traceback": [
      "\u001b[1;31m---------------------------------------------------------------------------\u001b[0m",
      "\u001b[1;31mAttributeError\u001b[0m                            Traceback (most recent call last)",
      "Cell \u001b[1;32mIn[208], line 1\u001b[0m\n\u001b[1;32m----> 1\u001b[0m my_fs\u001b[38;5;241m.\u001b[39madd(\u001b[38;5;241m5\u001b[39m)\n",
      "\u001b[1;31mAttributeError\u001b[0m: 'frozenset' object has no attribute 'add'"
     ]
    }
   ],
   "source": [
    "my_fs.add(5)"
   ]
  },
  {
   "cell_type": "code",
   "execution_count": 210,
   "id": "ac642be1-8308-40ee-b204-6d953c315d3a",
   "metadata": {},
   "outputs": [
    {
     "ename": "AttributeError",
     "evalue": "'frozenset' object has no attribute 'pop'",
     "output_type": "error",
     "traceback": [
      "\u001b[1;31m---------------------------------------------------------------------------\u001b[0m",
      "\u001b[1;31mAttributeError\u001b[0m                            Traceback (most recent call last)",
      "Cell \u001b[1;32mIn[210], line 1\u001b[0m\n\u001b[1;32m----> 1\u001b[0m my_fs\u001b[38;5;241m.\u001b[39mpop()\n",
      "\u001b[1;31mAttributeError\u001b[0m: 'frozenset' object has no attribute 'pop'"
     ]
    }
   ],
   "source": [
    "my_fs.pop()"
   ]
  },
  {
   "cell_type": "code",
   "execution_count": null,
   "id": "9096e52c-08dc-48f9-90bd-acf059d53b16",
   "metadata": {},
   "outputs": [],
   "source": []
  }
 ],
 "metadata": {
  "kernelspec": {
   "display_name": "Python 3 (ipykernel)",
   "language": "python",
   "name": "python3"
  },
  "language_info": {
   "codemirror_mode": {
    "name": "ipython",
    "version": 3
   },
   "file_extension": ".py",
   "mimetype": "text/x-python",
   "name": "python",
   "nbconvert_exporter": "python",
   "pygments_lexer": "ipython3",
   "version": "3.12.7"
  }
 },
 "nbformat": 4,
 "nbformat_minor": 5
}
