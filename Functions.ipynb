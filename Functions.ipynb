{
 "cells": [
  {
   "cell_type": "code",
   "execution_count": 1,
   "id": "7b35dfd3-641b-436e-9196-b7800f7af300",
   "metadata": {},
   "outputs": [],
   "source": [
    "# functions >> print,len,type >> inbuilt python function\n",
    "# ceil >> roof >> nearest highest whole no value\n",
    "# floor >> ground >> nearest lowest whole no value"
   ]
  },
  {
   "cell_type": "code",
   "execution_count": 3,
   "id": "9a8af5ac-b2fe-4a8e-b423-c47ba7eb3cb0",
   "metadata": {},
   "outputs": [],
   "source": [
    "import math as m #math(library) is a collection of function"
   ]
  },
  {
   "cell_type": "code",
   "execution_count": 5,
   "id": "761e4bfc-f642-477f-b420-f2db50ff8996",
   "metadata": {},
   "outputs": [
    {
     "data": {
      "text/plain": [
       "7"
      ]
     },
     "execution_count": 5,
     "metadata": {},
     "output_type": "execute_result"
    }
   ],
   "source": [
    "m.ceil(6.5)"
   ]
  },
  {
   "cell_type": "code",
   "execution_count": 7,
   "id": "4767c8a0-4b17-4022-b722-1338aee7d755",
   "metadata": {},
   "outputs": [
    {
     "data": {
      "text/plain": [
       "6"
      ]
     },
     "execution_count": 7,
     "metadata": {},
     "output_type": "execute_result"
    }
   ],
   "source": [
    "m.floor(6.5)"
   ]
  },
  {
   "cell_type": "code",
   "execution_count": 9,
   "id": "51f69e23-5e06-4d22-b714-23e55147f31a",
   "metadata": {},
   "outputs": [],
   "source": [
    "#function >> inbuilt function\n",
    "#user defined function "
   ]
  },
  {
   "cell_type": "code",
   "execution_count": 11,
   "id": "a34bad02-8586-43d5-a54b-e4e8f10142e3",
   "metadata": {},
   "outputs": [],
   "source": [
    "# syntax of function\n",
    "# def func():\n",
    "    # do something >> body of function"
   ]
  },
  {
   "cell_type": "code",
   "execution_count": 13,
   "id": "3e2c916f-775c-482a-bf95-632cb824966b",
   "metadata": {},
   "outputs": [],
   "source": [
    "#function is a block of code which performs some specific task/computation.\n",
    "#why function?>> functions(code) are reusable,neat ,clean and organised.Saves your time."
   ]
  },
  {
   "cell_type": "code",
   "execution_count": 15,
   "id": "1bef77a0-be84-4ee1-a225-85f17c2d68d9",
   "metadata": {},
   "outputs": [],
   "source": [
    "def greetings():\n",
    "    print(\"Welcome to the Office\")"
   ]
  },
  {
   "cell_type": "code",
   "execution_count": 17,
   "id": "a4aba62a-51ce-4234-9c09-d8f3f5949121",
   "metadata": {},
   "outputs": [
    {
     "name": "stdout",
     "output_type": "stream",
     "text": [
      "Welcome to the Office\n"
     ]
    }
   ],
   "source": [
    "greetings()"
   ]
  },
  {
   "cell_type": "code",
   "execution_count": 25,
   "id": "89e9340d-7914-44c4-9a4c-6c379639ff31",
   "metadata": {},
   "outputs": [],
   "source": [
    "def greetings(name): #passing a variable inside a function >> positional argument \n",
    "    print(\"Welcome to the Office\",name)"
   ]
  },
  {
   "cell_type": "code",
   "execution_count": 27,
   "id": "7d1381cb-e759-4af0-aa19-b543665b3108",
   "metadata": {},
   "outputs": [
    {
     "name": "stdout",
     "output_type": "stream",
     "text": [
      "Welcome to the Office Ajay\n"
     ]
    }
   ],
   "source": [
    "greetings(\"Ajay\")"
   ]
  },
  {
   "cell_type": "code",
   "execution_count": 29,
   "id": "d1bc2de1-544b-4422-a0bc-58312b07cc2d",
   "metadata": {},
   "outputs": [
    {
     "ename": "TypeError",
     "evalue": "greetings() missing 1 required positional argument: 'name'",
     "output_type": "error",
     "traceback": [
      "\u001b[1;31m---------------------------------------------------------------------------\u001b[0m",
      "\u001b[1;31mTypeError\u001b[0m                                 Traceback (most recent call last)",
      "Cell \u001b[1;32mIn[29], line 1\u001b[0m\n\u001b[1;32m----> 1\u001b[0m greetings()\n",
      "\u001b[1;31mTypeError\u001b[0m: greetings() missing 1 required positional argument: 'name'"
     ]
    }
   ],
   "source": [
    "greetings()"
   ]
  },
  {
   "cell_type": "code",
   "execution_count": 31,
   "id": "c3f727e7-710d-495b-930a-9bb95889bbcd",
   "metadata": {},
   "outputs": [
    {
     "name": "stdout",
     "output_type": "stream",
     "text": [
      "Welcome to the Office Bijay\n"
     ]
    }
   ],
   "source": [
    "greetings(\"Bijay\")"
   ]
  },
  {
   "cell_type": "code",
   "execution_count": 33,
   "id": "084be6a3-ef76-41cc-a4b1-52c197604eaa",
   "metadata": {},
   "outputs": [
    {
     "name": "stdout",
     "output_type": "stream",
     "text": [
      "This is my first function\n"
     ]
    }
   ],
   "source": [
    "def func():\n",
    "    print(\"This is my first function\")\n",
    "func()"
   ]
  },
  {
   "cell_type": "code",
   "execution_count": 37,
   "id": "eb1bdd1e-b3ec-4747-9b59-cbea0698e014",
   "metadata": {},
   "outputs": [
    {
     "data": {
      "text/plain": [
       "'This is my first function in python.'"
      ]
     },
     "execution_count": 37,
     "metadata": {},
     "output_type": "execute_result"
    }
   ],
   "source": [
    "\"This is my first function\" + \" in python.\""
   ]
  },
  {
   "cell_type": "code",
   "execution_count": 39,
   "id": "01cd9fba-854d-4469-a931-caf8bc358079",
   "metadata": {},
   "outputs": [
    {
     "name": "stdout",
     "output_type": "stream",
     "text": [
      "This is my first function\n"
     ]
    },
    {
     "ename": "TypeError",
     "evalue": "unsupported operand type(s) for +: 'NoneType' and 'str'",
     "output_type": "error",
     "traceback": [
      "\u001b[1;31m---------------------------------------------------------------------------\u001b[0m",
      "\u001b[1;31mTypeError\u001b[0m                                 Traceback (most recent call last)",
      "Cell \u001b[1;32mIn[39], line 1\u001b[0m\n\u001b[1;32m----> 1\u001b[0m func() \u001b[38;5;241m+\u001b[39m \u001b[38;5;124m\"\u001b[39m\u001b[38;5;124m in Python\u001b[39m\u001b[38;5;124m\"\u001b[39m\n",
      "\u001b[1;31mTypeError\u001b[0m: unsupported operand type(s) for +: 'NoneType' and 'str'"
     ]
    }
   ],
   "source": [
    "func() + \" in Python\""
   ]
  },
  {
   "cell_type": "code",
   "execution_count": 41,
   "id": "6e2a23d7-b056-424d-bcc6-9a7f3a78e349",
   "metadata": {},
   "outputs": [
    {
     "name": "stdout",
     "output_type": "stream",
     "text": [
      "This is my first function\n",
      "<class 'NoneType'>\n"
     ]
    }
   ],
   "source": [
    "print(type(func()))"
   ]
  },
  {
   "cell_type": "code",
   "execution_count": 43,
   "id": "5439daf8-5fb5-4cf5-947b-9ad146e9351c",
   "metadata": {},
   "outputs": [],
   "source": [
    "def func():\n",
    "    return \"This is my first function\""
   ]
  },
  {
   "cell_type": "code",
   "execution_count": 49,
   "id": "9eb69494-c40d-4ea4-b58f-a7a0b5072d4b",
   "metadata": {},
   "outputs": [
    {
     "data": {
      "text/plain": [
       "'This is my first function in Python.'"
      ]
     },
     "execution_count": 49,
     "metadata": {},
     "output_type": "execute_result"
    }
   ],
   "source": [
    "func() + \" in Python.\""
   ]
  },
  {
   "cell_type": "code",
   "execution_count": 51,
   "id": "8faa6907-a851-4a31-84de-f7a5d7078486",
   "metadata": {},
   "outputs": [
    {
     "data": {
      "text/plain": [
       "str"
      ]
     },
     "execution_count": 51,
     "metadata": {},
     "output_type": "execute_result"
    }
   ],
   "source": [
    "a = func()\n",
    "type(a)"
   ]
  },
  {
   "cell_type": "code",
   "execution_count": 53,
   "id": "2cbd2fc5-5e55-48d6-b1bf-a6b1ab8612dc",
   "metadata": {},
   "outputs": [],
   "source": [
    "def func():\n",
    "    return \"this is my first function\",1,2.2,True, 3+7j"
   ]
  },
  {
   "cell_type": "code",
   "execution_count": 55,
   "id": "dfca76fe-639c-4629-b833-3d5569f8940f",
   "metadata": {},
   "outputs": [
    {
     "data": {
      "text/plain": [
       "tuple"
      ]
     },
     "execution_count": 55,
     "metadata": {},
     "output_type": "execute_result"
    }
   ],
   "source": [
    "a = func()\n",
    "type(a)"
   ]
  },
  {
   "cell_type": "code",
   "execution_count": 57,
   "id": "4f57d77b-93e8-4c36-94f1-402e03537183",
   "metadata": {},
   "outputs": [
    {
     "data": {
      "text/plain": [
       "('this is my first function', 1, 2.2, True, (3+7j))"
      ]
     },
     "execution_count": 57,
     "metadata": {},
     "output_type": "execute_result"
    }
   ],
   "source": [
    "func()"
   ]
  },
  {
   "cell_type": "code",
   "execution_count": 59,
   "id": "c629a518-8d51-4796-ae4e-4fe55e3034d4",
   "metadata": {},
   "outputs": [],
   "source": [
    "a,b,c,d,e = func()"
   ]
  },
  {
   "cell_type": "code",
   "execution_count": 61,
   "id": "8624c5a4-7d0b-4e3c-a1e1-1b452e028db3",
   "metadata": {},
   "outputs": [
    {
     "data": {
      "text/plain": [
       "'this is my first function'"
      ]
     },
     "execution_count": 61,
     "metadata": {},
     "output_type": "execute_result"
    }
   ],
   "source": [
    "a"
   ]
  },
  {
   "cell_type": "code",
   "execution_count": 63,
   "id": "011e2a30-7c99-469f-a82a-30b3dd6cd256",
   "metadata": {},
   "outputs": [
    {
     "data": {
      "text/plain": [
       "1"
      ]
     },
     "execution_count": 63,
     "metadata": {},
     "output_type": "execute_result"
    }
   ],
   "source": [
    "b"
   ]
  },
  {
   "cell_type": "code",
   "execution_count": 65,
   "id": "2aa47715-b226-43ed-b136-620ce4ebb187",
   "metadata": {},
   "outputs": [
    {
     "data": {
      "text/plain": [
       "2.2"
      ]
     },
     "execution_count": 65,
     "metadata": {},
     "output_type": "execute_result"
    }
   ],
   "source": [
    "c"
   ]
  },
  {
   "cell_type": "code",
   "execution_count": 67,
   "id": "511c0600-b9bd-4f0d-ba5b-6d405f9f95cd",
   "metadata": {},
   "outputs": [
    {
     "data": {
      "text/plain": [
       "(3+7j)"
      ]
     },
     "execution_count": 67,
     "metadata": {},
     "output_type": "execute_result"
    }
   ],
   "source": [
    "e"
   ]
  },
  {
   "cell_type": "code",
   "execution_count": 69,
   "id": "ea9d6667-54a1-4c2a-9fc7-f78364fb14ac",
   "metadata": {},
   "outputs": [
    {
     "data": {
      "text/plain": [
       "True"
      ]
     },
     "execution_count": 69,
     "metadata": {},
     "output_type": "execute_result"
    }
   ],
   "source": [
    "d"
   ]
  },
  {
   "cell_type": "code",
   "execution_count": 71,
   "id": "80d0d9a7-e69b-416d-9a6e-811f271720be",
   "metadata": {},
   "outputs": [
    {
     "data": {
      "text/plain": [
       "'t'"
      ]
     },
     "execution_count": 71,
     "metadata": {},
     "output_type": "execute_result"
    }
   ],
   "source": [
    "a[0]"
   ]
  },
  {
   "cell_type": "code",
   "execution_count": 73,
   "id": "1cf0c1e8-aff7-4850-9aef-d7aa64a57a0e",
   "metadata": {},
   "outputs": [],
   "source": [
    "def func():\n",
    "    calc = 2+3+6*5\n",
    "    return calc"
   ]
  },
  {
   "cell_type": "code",
   "execution_count": 75,
   "id": "9667fa88-cdfe-4027-b758-bd962dc1cbbe",
   "metadata": {},
   "outputs": [
    {
     "data": {
      "text/plain": [
       "35"
      ]
     },
     "execution_count": 75,
     "metadata": {},
     "output_type": "execute_result"
    }
   ],
   "source": [
    "func()"
   ]
  },
  {
   "cell_type": "code",
   "execution_count": 77,
   "id": "8ef6e772-df0a-40aa-9f27-eac9fbf3507b",
   "metadata": {},
   "outputs": [
    {
     "data": {
      "text/plain": [
       "int"
      ]
     },
     "execution_count": 77,
     "metadata": {},
     "output_type": "execute_result"
    }
   ],
   "source": [
    "type(func())"
   ]
  },
  {
   "cell_type": "code",
   "execution_count": 79,
   "id": "a039e9aa-733d-469b-bde3-299bc7490173",
   "metadata": {},
   "outputs": [
    {
     "data": {
      "text/plain": [
       "25"
      ]
     },
     "execution_count": 79,
     "metadata": {},
     "output_type": "execute_result"
    }
   ],
   "source": [
    "def square_no(a):\n",
    "    return a*a\n",
    "square_no(5)"
   ]
  },
  {
   "cell_type": "code",
   "execution_count": 81,
   "id": "c9bb5fe9-415c-4672-b234-69bec774f53e",
   "metadata": {},
   "outputs": [
    {
     "data": {
      "text/plain": [
       "11236"
      ]
     },
     "execution_count": 81,
     "metadata": {},
     "output_type": "execute_result"
    }
   ],
   "source": [
    "def square_no(args):\n",
    "    return args*args\n",
    "square_no(106)"
   ]
  },
  {
   "cell_type": "code",
   "execution_count": 83,
   "id": "4a73a2bc-6955-440d-8c4f-07a84b9974cc",
   "metadata": {},
   "outputs": [
    {
     "data": {
      "text/plain": [
       "11"
      ]
     },
     "execution_count": 83,
     "metadata": {},
     "output_type": "execute_result"
    }
   ],
   "source": [
    "def addition(a,b):\n",
    "    return a+b\n",
    "addition(5,6)"
   ]
  },
  {
   "cell_type": "code",
   "execution_count": 85,
   "id": "b1f1a120-5328-4645-bafd-4b77b2d2f5c6",
   "metadata": {},
   "outputs": [
    {
     "data": {
      "text/plain": [
       "'pwskills'"
      ]
     },
     "execution_count": 85,
     "metadata": {},
     "output_type": "execute_result"
    }
   ],
   "source": [
    "# a and b are positional arguments >> it maintains order\n",
    "addition(b=\"skills\",a=\"pw\")"
   ]
  },
  {
   "cell_type": "code",
   "execution_count": 87,
   "id": "876747f6-fc9c-447e-8dec-4202b6d30806",
   "metadata": {},
   "outputs": [
    {
     "data": {
      "text/plain": [
       "6"
      ]
     },
     "execution_count": 87,
     "metadata": {},
     "output_type": "execute_result"
    }
   ],
   "source": [
    "def sum1(a,b,c):\n",
    "    return a+b+c\n",
    "sum1(1,2,3)"
   ]
  },
  {
   "cell_type": "code",
   "execution_count": 91,
   "id": "c67e9ae5-fe2a-435f-815d-4021331a562a",
   "metadata": {},
   "outputs": [],
   "source": [
    "# default argument will be passed to function in the last\n",
    "def sum1(b,c,a=0):\n",
    "    return a+b+c"
   ]
  },
  {
   "cell_type": "code",
   "execution_count": 93,
   "id": "d711150b-ab2e-45f3-96bb-da4816f8dd18",
   "metadata": {},
   "outputs": [
    {
     "data": {
      "text/plain": [
       "13"
      ]
     },
     "execution_count": 93,
     "metadata": {},
     "output_type": "execute_result"
    }
   ],
   "source": [
    "sum1(b=3,c=5,a=5)"
   ]
  },
  {
   "cell_type": "code",
   "execution_count": 95,
   "id": "256c38dd-7bb2-40f2-b6a1-a5b10bc4a940",
   "metadata": {},
   "outputs": [
    {
     "data": {
      "text/plain": [
       "8"
      ]
     },
     "execution_count": 95,
     "metadata": {},
     "output_type": "execute_result"
    }
   ],
   "source": [
    "sum1(b=3,c=5)"
   ]
  },
  {
   "cell_type": "code",
   "execution_count": 97,
   "id": "e033d989-081c-4c56-8d59-6380390fc7da",
   "metadata": {},
   "outputs": [
    {
     "data": {
      "text/plain": [
       "0"
      ]
     },
     "execution_count": 97,
     "metadata": {},
     "output_type": "execute_result"
    }
   ],
   "source": [
    "def sum1(b=0,c=0,a=0):\n",
    "    return a+b+c\n",
    "sum1()"
   ]
  },
  {
   "cell_type": "code",
   "execution_count": 99,
   "id": "9b32b9a3-3f09-498c-8719-0426812f83f1",
   "metadata": {},
   "outputs": [
    {
     "data": {
      "text/plain": [
       "6"
      ]
     },
     "execution_count": 99,
     "metadata": {},
     "output_type": "execute_result"
    }
   ],
   "source": [
    "sum1(1,2,3)"
   ]
  },
  {
   "cell_type": "code",
   "execution_count": 101,
   "id": "339e04d9-06b7-45b3-9ec0-dbe8979fe294",
   "metadata": {},
   "outputs": [
    {
     "name": "stdin",
     "output_type": "stream",
     "text": [
      "Enter the first no 7\n",
      "Enter the second no 8\n"
     ]
    },
    {
     "data": {
      "text/plain": [
       "15"
      ]
     },
     "execution_count": 101,
     "metadata": {},
     "output_type": "execute_result"
    }
   ],
   "source": [
    "def add_two_number():\n",
    "    a= int(input(\"Enter the first no\"))\n",
    "    b= int(input(\"Enter the second no\"))\n",
    "    return a+b\n",
    "add_two_number()"
   ]
  },
  {
   "cell_type": "code",
   "execution_count": 13,
   "id": "28b49d12-61bf-40e9-a00f-ddbd6c9f4f01",
   "metadata": {},
   "outputs": [],
   "source": [
    "#write a function that takes list as input and return all numeric values in a list."
   ]
  },
  {
   "cell_type": "code",
   "execution_count": 15,
   "id": "0bdaf79b-1e71-4588-9096-173f87034c5b",
   "metadata": {},
   "outputs": [],
   "source": [
    "def only_numeric(a):\n",
    "    n =  []\n",
    "    for i in a:\n",
    "        if type(i) == int or type(i) == float:\n",
    "            n.append(i)\n",
    "    return n"
   ]
  },
  {
   "cell_type": "code",
   "execution_count": 17,
   "id": "987a2a77-0521-40d7-8aa3-fe5346557299",
   "metadata": {},
   "outputs": [
    {
     "data": {
      "text/plain": [
       "[1, 2.2, 5, 6]"
      ]
     },
     "execution_count": 17,
     "metadata": {},
     "output_type": "execute_result"
    }
   ],
   "source": [
    "only_numeric([1,2.2,\"Ajay\",True,3+7j,\"pwskills\",5,6])"
   ]
  },
  {
   "cell_type": "code",
   "execution_count": null,
   "id": "3ce483ed-4fe0-471d-ae20-7819c7901228",
   "metadata": {},
   "outputs": [],
   "source": [
    "# now in input take nested list"
   ]
  },
  {
   "cell_type": "code",
   "execution_count": 31,
   "id": "1fae0e37-cbbe-4aaa-a101-a86d5330936c",
   "metadata": {},
   "outputs": [],
   "source": [
    "def only_numeric(a):\n",
    "    n =  []\n",
    "    for i in a:\n",
    "        if type(i) == list:\n",
    "            for j in i:\n",
    "                if type(i) == int or type(i) == float:\n",
    "                    n.append(i)\n",
    "        else:\n",
    "            if type(i) == int or type(i) == float:\n",
    "                n.append(i)\n",
    "    return n"
   ]
  },
  {
   "cell_type": "code",
   "execution_count": 33,
   "id": "d59d4146-58a6-432d-a8f8-2a3bd4871c44",
   "metadata": {},
   "outputs": [
    {
     "data": {
      "text/plain": [
       "[1, 2.2, 5, 6]"
      ]
     },
     "execution_count": 33,
     "metadata": {},
     "output_type": "execute_result"
    }
   ],
   "source": [
    "only_numeric([1,2.2,\"Ajay\",True,3+7j,\"pwskills\",5,6,[100,101,\"Ajay\"]])"
   ]
  },
  {
   "cell_type": "code",
   "execution_count": 35,
   "id": "8d06854f-16d1-43f7-a826-31495a9f2cd0",
   "metadata": {},
   "outputs": [],
   "source": [
    "#variable length argument"
   ]
  },
  {
   "cell_type": "code",
   "execution_count": 37,
   "id": "d96b44a5-905e-4a29-9586-f3bc34e78957",
   "metadata": {},
   "outputs": [],
   "source": [
    "def sum1(*args):\n",
    "    return args"
   ]
  },
  {
   "cell_type": "code",
   "execution_count": 39,
   "id": "28bd93dd-2c55-4283-be88-fe9305fea4ca",
   "metadata": {},
   "outputs": [
    {
     "data": {
      "text/plain": [
       "(1, 2)"
      ]
     },
     "execution_count": 39,
     "metadata": {},
     "output_type": "execute_result"
    }
   ],
   "source": [
    "sum1(1,2)"
   ]
  },
  {
   "cell_type": "code",
   "execution_count": 41,
   "id": "99cbacde-d95d-444b-af24-65ce72a1e9b3",
   "metadata": {},
   "outputs": [
    {
     "data": {
      "text/plain": [
       "(1, 2, 3)"
      ]
     },
     "execution_count": 41,
     "metadata": {},
     "output_type": "execute_result"
    }
   ],
   "source": [
    "sum1(1,2,3)"
   ]
  },
  {
   "cell_type": "code",
   "execution_count": 43,
   "id": "3f8ff55f-dd24-4d77-b111-361482a3ce2e",
   "metadata": {},
   "outputs": [],
   "source": [
    "def sum1(*args):\n",
    "    s = 0\n",
    "    for i in args:\n",
    "        s = s+i\n",
    "    return s "
   ]
  },
  {
   "cell_type": "code",
   "execution_count": 47,
   "id": "2e4686c8-7074-4490-ae8c-01c07b9f6bc4",
   "metadata": {},
   "outputs": [
    {
     "data": {
      "text/plain": [
       "10"
      ]
     },
     "execution_count": 47,
     "metadata": {},
     "output_type": "execute_result"
    }
   ],
   "source": [
    "sum1(1,2,3,4)"
   ]
  },
  {
   "cell_type": "code",
   "execution_count": 49,
   "id": "32007177-ec4e-4c20-aee9-ff145353dbae",
   "metadata": {},
   "outputs": [],
   "source": [
    "#variable argument with default argument\n",
    "def test(*args,a):\n",
    "    return args,a"
   ]
  },
  {
   "cell_type": "code",
   "execution_count": 51,
   "id": "466670b6-ebbf-43f5-b683-d8e007c89f82",
   "metadata": {},
   "outputs": [
    {
     "data": {
      "text/plain": [
       "((1, 2, 3, 4), 100)"
      ]
     },
     "execution_count": 51,
     "metadata": {},
     "output_type": "execute_result"
    }
   ],
   "source": [
    "test(1,2,3,4,a=100)"
   ]
  },
  {
   "cell_type": "code",
   "execution_count": 53,
   "id": "c21a5284-66ee-43e3-920b-37eb34df0164",
   "metadata": {},
   "outputs": [],
   "source": [
    "#write a function can take any no of values and returns the list\n",
    "def return_list(*args):\n",
    "    l = []\n",
    "    for i in args:\n",
    "        if type(i) == list:\n",
    "            l.append(i)\n",
    "    return l"
   ]
  },
  {
   "cell_type": "code",
   "execution_count": 55,
   "id": "fa3f2292-caa8-42b7-9f20-9d3e4cc0a206",
   "metadata": {},
   "outputs": [
    {
     "data": {
      "text/plain": [
       "[[1, 2, 3, 4]]"
      ]
     },
     "execution_count": 55,
     "metadata": {},
     "output_type": "execute_result"
    }
   ],
   "source": [
    "return_list(1,2,2.3,5+7j, {2,3},[1,2,3,4],(2,3),True,\"Ajay\")"
   ]
  },
  {
   "cell_type": "code",
   "execution_count": 57,
   "id": "be22b821-3cc2-42f3-bfc5-9b1db2172dd9",
   "metadata": {},
   "outputs": [],
   "source": [
    "def team(name, project):\n",
    "    return f\"{name} is working on {project}.\""
   ]
  },
  {
   "cell_type": "code",
   "execution_count": 61,
   "id": "ca011df2-e685-4de6-8b44-d05f6f6eba2d",
   "metadata": {},
   "outputs": [],
   "source": [
    "def test1(*args,**args1):\n",
    "    return args,args1"
   ]
  },
  {
   "cell_type": "code",
   "execution_count": 63,
   "id": "05828fa0-e6d7-49e3-a3e3-0456360889fa",
   "metadata": {},
   "outputs": [
    {
     "data": {
      "text/plain": [
       "((1, 2, 3, 4), {'a': 100, 'b': 50})"
      ]
     },
     "execution_count": 63,
     "metadata": {},
     "output_type": "execute_result"
    }
   ],
   "source": [
    "test1(1,2,3,4,a=100,b=50)"
   ]
  },
  {
   "cell_type": "code",
   "execution_count": 65,
   "id": "08e81d07-22d7-49a8-b453-ddce25a88c62",
   "metadata": {},
   "outputs": [
    {
     "data": {
      "text/plain": [
       "((), {})"
      ]
     },
     "execution_count": 65,
     "metadata": {},
     "output_type": "execute_result"
    }
   ],
   "source": [
    "test1()"
   ]
  },
  {
   "cell_type": "code",
   "execution_count": 67,
   "id": "fc0123c6-f6b3-4497-a60b-414c5c99d34e",
   "metadata": {},
   "outputs": [],
   "source": [
    "#python namespace \n",
    "\n",
    "def greet():\n",
    "    message = \"hello,welcome!\"\n",
    "    print(message)"
   ]
  },
  {
   "cell_type": "code",
   "execution_count": 69,
   "id": "eb52fae8-cc9b-47a3-b029-ab568861bc1c",
   "metadata": {},
   "outputs": [
    {
     "name": "stdout",
     "output_type": "stream",
     "text": [
      "hello,welcome!\n"
     ]
    }
   ],
   "source": [
    "greet()"
   ]
  },
  {
   "cell_type": "code",
   "execution_count": 73,
   "id": "be4ffd69-37ae-4b1a-8bdc-b4f1e4116a87",
   "metadata": {},
   "outputs": [],
   "source": [
    "subpart = \" to the course\"\n",
    "def greet():\n",
    "    message = \"hello,welcome\" + subpart\n",
    "    print(message)"
   ]
  },
  {
   "cell_type": "code",
   "execution_count": 75,
   "id": "8ac13ede-bea3-4ab2-baea-e970a30e291e",
   "metadata": {},
   "outputs": [
    {
     "name": "stdout",
     "output_type": "stream",
     "text": [
      "hello,welcome to the course\n"
     ]
    }
   ],
   "source": [
    "greet()"
   ]
  },
  {
   "cell_type": "code",
   "execution_count": 77,
   "id": "355fefaa-bb79-4ac4-ad9d-1232e30c3fc7",
   "metadata": {},
   "outputs": [],
   "source": [
    "#namespace >> scope of variables\n",
    "#local variable >> a function defined inside a function should be accessed in the function\n",
    "#global variable >> accessed any where"
   ]
  },
  {
   "cell_type": "code",
   "execution_count": 81,
   "id": "47bf1f3b-b03a-4ad7-a907-f9b1dc7cf9c2",
   "metadata": {},
   "outputs": [],
   "source": [
    "#function inside function\n",
    "\n",
    "def marks_in_subject(**kwargs):#keyword argument\n",
    "    def total_marks(marks_list):\n",
    "        return sum(marks_list)\n",
    "    marks_list = []\n",
    "    for sub,marks in kwargs.items():\n",
    "        marks_list.append(marks)\n",
    "    return total_marks(marks_list)"
   ]
  },
  {
   "cell_type": "code",
   "execution_count": 85,
   "id": "77cd0f66-6fdf-4811-aa4c-6b35e06255c7",
   "metadata": {},
   "outputs": [
    {
     "data": {
      "text/plain": [
       "110"
      ]
     },
     "execution_count": 85,
     "metadata": {},
     "output_type": "execute_result"
    }
   ],
   "source": [
    "marks_in_subject(a=90,b=20)"
   ]
  },
  {
   "cell_type": "code",
   "execution_count": 87,
   "id": "52c3f917-41bf-47ef-b44f-addc99c2ea5e",
   "metadata": {},
   "outputs": [],
   "source": [
    "#calling function from outside"
   ]
  },
  {
   "cell_type": "code",
   "execution_count": 89,
   "id": "4952c168-39e4-4e04-96e6-f0be3b3e6e0d",
   "metadata": {},
   "outputs": [],
   "source": [
    "def find_power(num,power):\n",
    "    return num*power"
   ]
  },
  {
   "cell_type": "code",
   "execution_count": 91,
   "id": "79bc9114-8742-4133-830e-f9041c810cdc",
   "metadata": {},
   "outputs": [
    {
     "data": {
      "text/plain": [
       "<function __main__.find_power(num, power)>"
      ]
     },
     "execution_count": 91,
     "metadata": {},
     "output_type": "execute_result"
    }
   ],
   "source": [
    "find_power"
   ]
  },
  {
   "cell_type": "code",
   "execution_count": 93,
   "id": "632fefde-0de3-48f8-985e-2856a05f2c38",
   "metadata": {},
   "outputs": [
    {
     "data": {
      "text/plain": [
       "150"
      ]
     },
     "execution_count": 93,
     "metadata": {},
     "output_type": "execute_result"
    }
   ],
   "source": [
    "find_power(3,50)"
   ]
  },
  {
   "cell_type": "code",
   "execution_count": null,
   "id": "d4d76f22-8bc9-4d45-ae4f-b0dbcb1c6078",
   "metadata": {},
   "outputs": [],
   "source": []
  }
 ],
 "metadata": {
  "kernelspec": {
   "display_name": "Python 3 (ipykernel)",
   "language": "python",
   "name": "python3"
  },
  "language_info": {
   "codemirror_mode": {
    "name": "ipython",
    "version": 3
   },
   "file_extension": ".py",
   "mimetype": "text/x-python",
   "name": "python",
   "nbconvert_exporter": "python",
   "pygments_lexer": "ipython3",
   "version": "3.12.7"
  }
 },
 "nbformat": 4,
 "nbformat_minor": 5
}
