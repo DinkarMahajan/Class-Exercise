{
 "cells": [
  {
   "cell_type": "code",
   "execution_count": 1,
   "id": "77a862f8-b7f5-4d20-b2b3-44e8eb90f0a1",
   "metadata": {},
   "outputs": [],
   "source": [
    "#Dictionary is a data structure that stores data as key value pair\n",
    "#Keys are unique and immutable\n",
    "\n",
    "#Note: Dictionaries are unordered but from Python 3.7 version, dictionaries retain the order of intersertion.\n",
    "#This means that if you iterate over a dictionary, the items will be returned in the order they were added.\n"
   ]
  },
  {
   "cell_type": "code",
   "execution_count": 1,
   "id": "80ecdde7-d703-4d44-a8a3-f4bdeb67b1b1",
   "metadata": {},
   "outputs": [
    {
     "data": {
      "text/plain": [
       "dict"
      ]
     },
     "execution_count": 1,
     "metadata": {},
     "output_type": "execute_result"
    }
   ],
   "source": [
    "d = {}\n",
    "type(d)"
   ]
  },
  {
   "cell_type": "code",
   "execution_count": 3,
   "id": "b7f010bb-289f-4ece-bb19-8d24b1f8af46",
   "metadata": {},
   "outputs": [],
   "source": [
    "d = {\"name\":\"Ajay\",\"email\":\"ag@gmail.com\",\"contact\":1234}"
   ]
  },
  {
   "cell_type": "code",
   "execution_count": 5,
   "id": "2a1a050f-da49-45f8-9daa-6c5972f0cc43",
   "metadata": {},
   "outputs": [
    {
     "data": {
      "text/plain": [
       "{'name': 'Ajay', 'email': 'ag@gmail.com', 'contact': 1234}"
      ]
     },
     "execution_count": 5,
     "metadata": {},
     "output_type": "execute_result"
    }
   ],
   "source": [
    "d"
   ]
  },
  {
   "cell_type": "code",
   "execution_count": 7,
   "id": "c199a626-7cec-40d0-af53-2336cf132208",
   "metadata": {},
   "outputs": [
    {
     "data": {
      "text/plain": [
       "dict"
      ]
     },
     "execution_count": 7,
     "metadata": {},
     "output_type": "execute_result"
    }
   ],
   "source": [
    "type(d)"
   ]
  },
  {
   "cell_type": "code",
   "execution_count": 9,
   "id": "451f804a-1f4a-44ea-bc09-b5584a30587a",
   "metadata": {},
   "outputs": [
    {
     "data": {
      "text/plain": [
       "1"
      ]
     },
     "execution_count": 9,
     "metadata": {},
     "output_type": "execute_result"
    }
   ],
   "source": [
    "l = [1,2,3,4]\n",
    "l[0]"
   ]
  },
  {
   "cell_type": "code",
   "execution_count": 11,
   "id": "c5ae35ca-d139-4a10-be0b-e14caa62348e",
   "metadata": {},
   "outputs": [
    {
     "data": {
      "text/plain": [
       "'Ajay'"
      ]
     },
     "execution_count": 11,
     "metadata": {},
     "output_type": "execute_result"
    }
   ],
   "source": [
    "d[\"name\"]"
   ]
  },
  {
   "cell_type": "code",
   "execution_count": 13,
   "id": "433accd2-0ae0-4793-b6d2-f23ae392af5b",
   "metadata": {},
   "outputs": [
    {
     "data": {
      "text/plain": [
       "'ag@gmail.com'"
      ]
     },
     "execution_count": 13,
     "metadata": {},
     "output_type": "execute_result"
    }
   ],
   "source": [
    "d[\"email\"]"
   ]
  },
  {
   "cell_type": "code",
   "execution_count": 15,
   "id": "8afc894d-32d3-4002-ab63-4898717ce637",
   "metadata": {},
   "outputs": [],
   "source": [
    "d['name'] = \"Bikay\""
   ]
  },
  {
   "cell_type": "code",
   "execution_count": 17,
   "id": "5d0e60d6-cb47-4d64-a15a-e3ba347cff76",
   "metadata": {},
   "outputs": [
    {
     "data": {
      "text/plain": [
       "{'name': 'Bikay', 'email': 'ag@gmail.com', 'contact': 1234}"
      ]
     },
     "execution_count": 17,
     "metadata": {},
     "output_type": "execute_result"
    }
   ],
   "source": [
    "d"
   ]
  },
  {
   "cell_type": "code",
   "execution_count": 19,
   "id": "fbb178d7-58c5-42c1-b4f3-b97f0da1f263",
   "metadata": {},
   "outputs": [],
   "source": [
    "d = {\"address\":\"26th cross, bangalore\"}"
   ]
  },
  {
   "cell_type": "code",
   "execution_count": 21,
   "id": "771865fb-451c-47be-8f69-b8d70236d62d",
   "metadata": {},
   "outputs": [
    {
     "data": {
      "text/plain": [
       "'26th cross, bangalore'"
      ]
     },
     "execution_count": 21,
     "metadata": {},
     "output_type": "execute_result"
    }
   ],
   "source": [
    "d[\"address\"]"
   ]
  },
  {
   "cell_type": "code",
   "execution_count": 23,
   "id": "bbfcfc87-1974-4aa0-8dd1-f7acfd21ac67",
   "metadata": {},
   "outputs": [],
   "source": [
    "d = {\"key\": 1}"
   ]
  },
  {
   "cell_type": "code",
   "execution_count": 25,
   "id": "6d62b5ec-d4c2-4a14-9059-a372889dbf7a",
   "metadata": {},
   "outputs": [
    {
     "data": {
      "text/plain": [
       "1"
      ]
     },
     "execution_count": 25,
     "metadata": {},
     "output_type": "execute_result"
    }
   ],
   "source": [
    "d[\"key\"]"
   ]
  },
  {
   "cell_type": "code",
   "execution_count": 29,
   "id": "fc74a274-9175-4290-9315-82cdaa58a4bb",
   "metadata": {},
   "outputs": [
    {
     "ename": "KeyError",
     "evalue": "1",
     "output_type": "error",
     "traceback": [
      "\u001b[1;31m---------------------------------------------------------------------------\u001b[0m",
      "\u001b[1;31mKeyError\u001b[0m                                  Traceback (most recent call last)",
      "Cell \u001b[1;32mIn[29], line 1\u001b[0m\n\u001b[1;32m----> 1\u001b[0m d[\u001b[38;5;241m1\u001b[39m]\n",
      "\u001b[1;31mKeyError\u001b[0m: 1"
     ]
    }
   ],
   "source": [
    "d[1] #you can only access value using key, vice-versa not posssible"
   ]
  },
  {
   "cell_type": "code",
   "execution_count": 37,
   "id": "a1fc8253-8e6e-46e3-94c9-4b3d51a712a3",
   "metadata": {},
   "outputs": [
    {
     "data": {
      "text/plain": [
       "{1: 'abc'}"
      ]
     },
     "execution_count": 37,
     "metadata": {},
     "output_type": "execute_result"
    }
   ],
   "source": [
    "#rules of defining keys\n",
    "d = {1:\"abc\"} #integer as key\n",
    "d"
   ]
  },
  {
   "cell_type": "code",
   "execution_count": 39,
   "id": "5b356a1e-c2ef-4ca0-91b3-4c55503daf82",
   "metadata": {},
   "outputs": [],
   "source": [
    "d = {1.2:\"abc\"} #float as key"
   ]
  },
  {
   "cell_type": "code",
   "execution_count": 41,
   "id": "730323db-6b5c-4964-9817-a472803e9e7e",
   "metadata": {},
   "outputs": [
    {
     "data": {
      "text/plain": [
       "{1.2: 'abc'}"
      ]
     },
     "execution_count": 41,
     "metadata": {},
     "output_type": "execute_result"
    }
   ],
   "source": [
    "d"
   ]
  },
  {
   "cell_type": "code",
   "execution_count": 45,
   "id": "8137ec94-729f-424b-b9a1-92bc2ecd3096",
   "metadata": {},
   "outputs": [
    {
     "data": {
      "text/plain": [
       "{True: 'any value'}"
      ]
     },
     "execution_count": 45,
     "metadata": {},
     "output_type": "execute_result"
    }
   ],
   "source": [
    "d = {True:\"any value\"} #boolean value can also be key of dictionary\n",
    "d"
   ]
  },
  {
   "cell_type": "code",
   "execution_count": 47,
   "id": "0a2c07db-2c15-4acf-bcd2-13f84c68d29e",
   "metadata": {},
   "outputs": [
    {
     "ename": "SyntaxError",
     "evalue": "incomplete input (1820745340.py, line 1)",
     "output_type": "error",
     "traceback": [
      "\u001b[1;36m  Cell \u001b[1;32mIn[47], line 1\u001b[1;36m\u001b[0m\n\u001b[1;33m    d = {#:123}\u001b[0m\n\u001b[1;37m               ^\u001b[0m\n\u001b[1;31mSyntaxError\u001b[0m\u001b[1;31m:\u001b[0m incomplete input\n"
     ]
    }
   ],
   "source": [
    "d = {#:123}"
   ]
  },
  {
   "cell_type": "code",
   "execution_count": 49,
   "id": "6cf8c95b-ef47-482a-8b92-70bfc7cd7a1b",
   "metadata": {},
   "outputs": [],
   "source": [
    "# speacial characters cannot be used as key"
   ]
  },
  {
   "cell_type": "code",
   "execution_count": 51,
   "id": "be0fb5ec-7320-47d0-80ae-3efecfb7fe1c",
   "metadata": {},
   "outputs": [
    {
     "ename": "TypeError",
     "evalue": "unhashable type: 'list'",
     "output_type": "error",
     "traceback": [
      "\u001b[1;31m---------------------------------------------------------------------------\u001b[0m",
      "\u001b[1;31mTypeError\u001b[0m                                 Traceback (most recent call last)",
      "Cell \u001b[1;32mIn[51], line 1\u001b[0m\n\u001b[1;32m----> 1\u001b[0m d \u001b[38;5;241m=\u001b[39m {[\u001b[38;5;241m1\u001b[39m,\u001b[38;5;241m2\u001b[39m,\u001b[38;5;241m3\u001b[39m]:\u001b[38;5;124m\"\u001b[39m\u001b[38;5;124mshyam\u001b[39m\u001b[38;5;124m\"\u001b[39m}\n",
      "\u001b[1;31mTypeError\u001b[0m: unhashable type: 'list'"
     ]
    }
   ],
   "source": [
    "d = {[1,2,3]:\"shyam\"}"
   ]
  },
  {
   "cell_type": "code",
   "execution_count": 53,
   "id": "310e14e1-d8db-4548-866a-23c6da631434",
   "metadata": {},
   "outputs": [
    {
     "data": {
      "text/plain": [
       "{(1, 2, 3): 'abc'}"
      ]
     },
     "execution_count": 53,
     "metadata": {},
     "output_type": "execute_result"
    }
   ],
   "source": [
    "d = {(1,2,3):\"abc\"}\n",
    "d"
   ]
  },
  {
   "cell_type": "code",
   "execution_count": 55,
   "id": "332c1dd7-1f8f-4690-b706-1fde56e0c54c",
   "metadata": {},
   "outputs": [
    {
     "data": {
      "text/plain": [
       "dict"
      ]
     },
     "execution_count": 55,
     "metadata": {},
     "output_type": "execute_result"
    }
   ],
   "source": [
    "type(d)"
   ]
  },
  {
   "cell_type": "code",
   "execution_count": 57,
   "id": "29bfa378-ee5b-466b-bfde-b96abae791e9",
   "metadata": {},
   "outputs": [
    {
     "ename": "TypeError",
     "evalue": "unhashable type: 'set'",
     "output_type": "error",
     "traceback": [
      "\u001b[1;31m---------------------------------------------------------------------------\u001b[0m",
      "\u001b[1;31mTypeError\u001b[0m                                 Traceback (most recent call last)",
      "Cell \u001b[1;32mIn[57], line 1\u001b[0m\n\u001b[1;32m----> 1\u001b[0m d \u001b[38;5;241m=\u001b[39m {{\u001b[38;5;241m1\u001b[39m,\u001b[38;5;241m2\u001b[39m,\u001b[38;5;241m3\u001b[39m}:\u001b[38;5;124m\"\u001b[39m\u001b[38;5;124mAjay\u001b[39m\u001b[38;5;124m\"\u001b[39m}\n",
      "\u001b[1;31mTypeError\u001b[0m: unhashable type: 'set'"
     ]
    }
   ],
   "source": [
    "d = {{1,2,3}:\"Ajay\"}"
   ]
  },
  {
   "cell_type": "code",
   "execution_count": 61,
   "id": "f143b8a6-88b3-44d8-921b-cef54abae2ef",
   "metadata": {},
   "outputs": [
    {
     "ename": "TypeError",
     "evalue": "unhashable type: 'dict'",
     "output_type": "error",
     "traceback": [
      "\u001b[1;31m---------------------------------------------------------------------------\u001b[0m",
      "\u001b[1;31mTypeError\u001b[0m                                 Traceback (most recent call last)",
      "Cell \u001b[1;32mIn[61], line 1\u001b[0m\n\u001b[1;32m----> 1\u001b[0m d \u001b[38;5;241m=\u001b[39m {{\u001b[38;5;124m\"\u001b[39m\u001b[38;5;124mkey\u001b[39m\u001b[38;5;124m\"\u001b[39m:\u001b[38;5;241m123\u001b[39m} : \u001b[38;5;124m\"\u001b[39m\u001b[38;5;124majay\u001b[39m\u001b[38;5;124m\"\u001b[39m}\n",
      "\u001b[1;31mTypeError\u001b[0m: unhashable type: 'dict'"
     ]
    }
   ],
   "source": [
    "d = {{\"key\":123} : \"ajay\"}"
   ]
  },
  {
   "cell_type": "code",
   "execution_count": 63,
   "id": "a30d219e-2d85-4fed-a30f-2c422cd22033",
   "metadata": {},
   "outputs": [],
   "source": [
    "#only string and numbers can be used as key of the dictionary"
   ]
  },
  {
   "cell_type": "code",
   "execution_count": 71,
   "id": "bb6afa03-6e72-4449-9b87-fb732af1de0e",
   "metadata": {},
   "outputs": [],
   "source": [
    "d = {\"name\":\"Ajay\",\"email\":\"aj@gmail.com\",\"contact\":1234,\"name\":\"Bijay\"}"
   ]
  },
  {
   "cell_type": "code",
   "execution_count": 73,
   "id": "a85877bf-7a5b-49d7-bfee-91ab7be3fd1b",
   "metadata": {},
   "outputs": [
    {
     "data": {
      "text/plain": [
       "{'name': 'Bijay', 'email': 'aj@gmail.com', 'contact': 1234}"
      ]
     },
     "execution_count": 73,
     "metadata": {},
     "output_type": "execute_result"
    }
   ],
   "source": [
    "d"
   ]
  },
  {
   "cell_type": "code",
   "execution_count": 75,
   "id": "bc98eaac-94dc-4b61-ae23-996571ec2a25",
   "metadata": {},
   "outputs": [],
   "source": [
    "# always the last key value will be used\n",
    "d[\"name\"] = \"Sanjay\""
   ]
  },
  {
   "cell_type": "code",
   "execution_count": 81,
   "id": "841f574e-899d-45a0-ae01-1ddbbdbd31b0",
   "metadata": {},
   "outputs": [
    {
     "data": {
      "text/plain": [
       "{'name': 'Sanjay', 'email': 'aj@gmail.com', 'contact': 1234}"
      ]
     },
     "execution_count": 81,
     "metadata": {},
     "output_type": "execute_result"
    }
   ],
   "source": [
    "d"
   ]
  },
  {
   "cell_type": "code",
   "execution_count": null,
   "id": "b6c4a7ce-9499-49f1-a32d-d15437c51119",
   "metadata": {},
   "outputs": [],
   "source": [
    "del d[\"address\"]"
   ]
  },
  {
   "cell_type": "code",
   "execution_count": 83,
   "id": "d870b97c-0456-4af6-8f60-35650453bf24",
   "metadata": {},
   "outputs": [],
   "source": [
    "del d"
   ]
  },
  {
   "cell_type": "code",
   "execution_count": 85,
   "id": "5ba5d273-54be-427d-add8-edff1d800b7b",
   "metadata": {},
   "outputs": [
    {
     "ename": "NameError",
     "evalue": "name 'd' is not defined",
     "output_type": "error",
     "traceback": [
      "\u001b[1;31m---------------------------------------------------------------------------\u001b[0m",
      "\u001b[1;31mNameError\u001b[0m                                 Traceback (most recent call last)",
      "Cell \u001b[1;32mIn[85], line 1\u001b[0m\n\u001b[1;32m----> 1\u001b[0m d\n",
      "\u001b[1;31mNameError\u001b[0m: name 'd' is not defined"
     ]
    }
   ],
   "source": [
    "d"
   ]
  },
  {
   "cell_type": "code",
   "execution_count": 87,
   "id": "8212097f-d60e-4a9e-b18f-d887d949d477",
   "metadata": {},
   "outputs": [],
   "source": [
    "d = {\"name\":\"Ajay\",\"email\":\"aj@gmail.com\",\"contact\":1234,\"name\":\"Bijay\"}"
   ]
  },
  {
   "cell_type": "code",
   "execution_count": 89,
   "id": "027f91c3-8dd4-4948-8387-38a8df1591e5",
   "metadata": {},
   "outputs": [],
   "source": [
    "d.clear()"
   ]
  },
  {
   "cell_type": "code",
   "execution_count": 91,
   "id": "90291294-d2ba-4c21-bfa5-ab8fc991ab36",
   "metadata": {},
   "outputs": [
    {
     "data": {
      "text/plain": [
       "{}"
      ]
     },
     "execution_count": 91,
     "metadata": {},
     "output_type": "execute_result"
    }
   ],
   "source": [
    "d"
   ]
  },
  {
   "cell_type": "code",
   "execution_count": 93,
   "id": "b88655a3-8459-4f6f-a7a1-48fe3ecd1b48",
   "metadata": {},
   "outputs": [
    {
     "data": {
      "text/plain": [
       "3"
      ]
     },
     "execution_count": 93,
     "metadata": {},
     "output_type": "execute_result"
    }
   ],
   "source": [
    "d = {\"name\":\"Ajay\",\"email\":\"aj@gmail.com\",\"contact\":1234,\"name\":\"Bijay\"}\n",
    "len(d)"
   ]
  },
  {
   "cell_type": "code",
   "execution_count": 95,
   "id": "96f3a1b8-864b-4de6-bb05-f958e5112c7a",
   "metadata": {},
   "outputs": [
    {
     "data": {
      "text/plain": [
       "dict_keys(['name', 'email', 'contact'])"
      ]
     },
     "execution_count": 95,
     "metadata": {},
     "output_type": "execute_result"
    }
   ],
   "source": [
    "d.keys()"
   ]
  },
  {
   "cell_type": "code",
   "execution_count": 97,
   "id": "8c3dd801-89de-413e-8391-c43bcbfb2f33",
   "metadata": {},
   "outputs": [
    {
     "data": {
      "text/plain": [
       "dict_values(['Bijay', 'aj@gmail.com', 1234])"
      ]
     },
     "execution_count": 97,
     "metadata": {},
     "output_type": "execute_result"
    }
   ],
   "source": [
    "d.values()"
   ]
  },
  {
   "cell_type": "code",
   "execution_count": 99,
   "id": "068a329d-d142-4242-b83f-586631040725",
   "metadata": {},
   "outputs": [
    {
     "data": {
      "text/plain": [
       "{'name': 'Bijay', 'email': 'aj@gmail.com', 'contact': 1234}"
      ]
     },
     "execution_count": 99,
     "metadata": {},
     "output_type": "execute_result"
    }
   ],
   "source": [
    "d1 = d.copy()\n",
    "d1"
   ]
  },
  {
   "cell_type": "code",
   "execution_count": 101,
   "id": "bea43dec-ceb2-4fb7-952c-9a87b2c0ccd5",
   "metadata": {},
   "outputs": [],
   "source": [
    "del d1"
   ]
  },
  {
   "cell_type": "code",
   "execution_count": 103,
   "id": "74a9be34-a270-4be4-b460-a91d85f5da26",
   "metadata": {},
   "outputs": [
    {
     "data": {
      "text/plain": [
       "{'name': 'Bijay', 'email': 'aj@gmail.com', 'contact': 1234}"
      ]
     },
     "execution_count": 103,
     "metadata": {},
     "output_type": "execute_result"
    }
   ],
   "source": [
    "d"
   ]
  },
  {
   "cell_type": "code",
   "execution_count": 105,
   "id": "34c427b4-0d34-444e-abb7-e6e62c1f17d2",
   "metadata": {},
   "outputs": [
    {
     "data": {
      "text/plain": [
       "1234"
      ]
     },
     "execution_count": 105,
     "metadata": {},
     "output_type": "execute_result"
    }
   ],
   "source": [
    "d.pop(\"contact\")"
   ]
  },
  {
   "cell_type": "code",
   "execution_count": 107,
   "id": "9a2bb295-e3b3-41fe-8677-81feb62b74d7",
   "metadata": {},
   "outputs": [
    {
     "data": {
      "text/plain": [
       "{'name': 'Bijay', 'email': 'aj@gmail.com'}"
      ]
     },
     "execution_count": 107,
     "metadata": {},
     "output_type": "execute_result"
    }
   ],
   "source": [
    "d"
   ]
  },
  {
   "cell_type": "code",
   "execution_count": 109,
   "id": "04011131-94c4-4680-92fd-ec8b5803ecb5",
   "metadata": {},
   "outputs": [],
   "source": [
    "d1 = {\"course\":\"ds\"}"
   ]
  },
  {
   "cell_type": "code",
   "execution_count": 111,
   "id": "ac13e4ec-b49a-4ad1-85ed-173e3d2eafdb",
   "metadata": {},
   "outputs": [],
   "source": [
    "d.update(d1)"
   ]
  },
  {
   "cell_type": "code",
   "execution_count": 113,
   "id": "a1ccef65-fa06-4047-b2a5-832296cfb5dc",
   "metadata": {},
   "outputs": [
    {
     "data": {
      "text/plain": [
       "{'name': 'Bijay', 'email': 'aj@gmail.com', 'course': 'ds'}"
      ]
     },
     "execution_count": 113,
     "metadata": {},
     "output_type": "execute_result"
    }
   ],
   "source": [
    "d"
   ]
  },
  {
   "cell_type": "code",
   "execution_count": 115,
   "id": "f0d4f313-d8f5-401c-94a9-b43b5fee7b64",
   "metadata": {},
   "outputs": [
    {
     "data": {
      "text/plain": [
       "'Bijay'"
      ]
     },
     "execution_count": 115,
     "metadata": {},
     "output_type": "execute_result"
    }
   ],
   "source": [
    "d.get(\"name\")"
   ]
  },
  {
   "cell_type": "code",
   "execution_count": 117,
   "id": "4f70f3a2-8490-441b-a00c-1dc3e677daec",
   "metadata": {},
   "outputs": [
    {
     "data": {
      "text/plain": [
       "{'name': 'Bijay', 'email': 'aj@gmail.com', 'course': 'ds'}"
      ]
     },
     "execution_count": 117,
     "metadata": {},
     "output_type": "execute_result"
    }
   ],
   "source": [
    "d"
   ]
  },
  {
   "cell_type": "code",
   "execution_count": 119,
   "id": "56fa1ac4-c2a7-43b0-8925-8e57dfc02a54",
   "metadata": {},
   "outputs": [
    {
     "data": {
      "text/plain": [
       "{1: ('a', 'b', 'c'), 2: ('a', 'b', 'c'), 3: ('a', 'b', 'c')}"
      ]
     },
     "execution_count": 119,
     "metadata": {},
     "output_type": "execute_result"
    }
   ],
   "source": [
    "# from keys\n",
    "d.fromkeys((1,2,3),(\"a\",\"b\",\"c\"))"
   ]
  },
  {
   "cell_type": "code",
   "execution_count": 121,
   "id": "e94d09c5-4f3b-4a59-a24a-672d3a7d518f",
   "metadata": {},
   "outputs": [
    {
     "name": "stdout",
     "output_type": "stream",
     "text": [
      "('Arun', 80)\n",
      "('Ajay', 95)\n",
      "('Bijay', 100)\n"
     ]
    }
   ],
   "source": [
    "# dictionary comprehension\n",
    "# zip function\n",
    "\n",
    "students = [\"Arun\",\"Ajay\",\"Bijay\"]\n",
    "marks = [80,95,100]\n",
    "\n",
    "for i in zip(students,marks):\n",
    "    print(i)"
   ]
  },
  {
   "cell_type": "code",
   "execution_count": 127,
   "id": "a4310467-26fe-4947-a6f0-c1e08d08e10a",
   "metadata": {},
   "outputs": [],
   "source": [
    "students = [\"Arun\",\"Ajay\",\"Bijay\"]\n",
    "marks = [80,95,100]\n",
    "student_marks = {}\n",
    "for student,mark in zip(students,marks):\n",
    "    student_marks[student] = mark"
   ]
  },
  {
   "cell_type": "code",
   "execution_count": 129,
   "id": "00c02c67-a085-44a1-ae24-3c7cff95d901",
   "metadata": {},
   "outputs": [
    {
     "data": {
      "text/plain": [
       "{'Arun': 80, 'Ajay': 95, 'Bijay': 100}"
      ]
     },
     "execution_count": 129,
     "metadata": {},
     "output_type": "execute_result"
    }
   ],
   "source": [
    "student_marks"
   ]
  },
  {
   "cell_type": "code",
   "execution_count": 137,
   "id": "ef82e392-e246-4b53-8365-f3a17ac04105",
   "metadata": {},
   "outputs": [
    {
     "data": {
      "text/plain": [
       "{'Arun': 80, 'Ajay': 95, 'Bijay': 100}"
      ]
     },
     "execution_count": 137,
     "metadata": {},
     "output_type": "execute_result"
    }
   ],
   "source": [
    "#using dict comprehension method\n",
    "students = [\"Arun\",\"Ajay\",\"Bijay\"]\n",
    "marks = [80,95,100]\n",
    "{student:marks for student, marks in zip(students,marks)}"
   ]
  },
  {
   "cell_type": "code",
   "execution_count": 139,
   "id": "124dbef3-cdbd-4404-bdbc-05a3ffe85065",
   "metadata": {},
   "outputs": [],
   "source": [
    "#use case\n",
    "user_id = [1,2,3]\n",
    "user_name = [\"a21\",\"a22\",\"a23\"]"
   ]
  },
  {
   "cell_type": "code",
   "execution_count": 141,
   "id": "3aabc282-956a-487d-9e58-8aa08880c4a1",
   "metadata": {},
   "outputs": [
    {
     "data": {
      "text/plain": [
       "[1, 2, 3]"
      ]
     },
     "execution_count": 141,
     "metadata": {},
     "output_type": "execute_result"
    }
   ],
   "source": [
    "user_id"
   ]
  },
  {
   "cell_type": "code",
   "execution_count": 143,
   "id": "3c4df14b-8819-49e8-9a04-95715e63cac0",
   "metadata": {},
   "outputs": [
    {
     "data": {
      "text/plain": [
       "['a21', 'a22', 'a23']"
      ]
     },
     "execution_count": 143,
     "metadata": {},
     "output_type": "execute_result"
    }
   ],
   "source": [
    "user_name"
   ]
  },
  {
   "cell_type": "code",
   "execution_count": 145,
   "id": "4e90b697-a2b4-49ca-8c89-e4d40cb5484a",
   "metadata": {},
   "outputs": [
    {
     "data": {
      "text/plain": [
       "{1: 'a21', 2: 'a22', 3: 'a23'}"
      ]
     },
     "execution_count": 145,
     "metadata": {},
     "output_type": "execute_result"
    }
   ],
   "source": [
    "{u_id:u_name for u_id, u_name in zip(user_id, user_name)}"
   ]
  },
  {
   "cell_type": "code",
   "execution_count": null,
   "id": "bcd485fc-91e4-4a2a-9535-f3eef4908df7",
   "metadata": {},
   "outputs": [],
   "source": []
  }
 ],
 "metadata": {
  "kernelspec": {
   "display_name": "Python 3 (ipykernel)",
   "language": "python",
   "name": "python3"
  },
  "language_info": {
   "codemirror_mode": {
    "name": "ipython",
    "version": 3
   },
   "file_extension": ".py",
   "mimetype": "text/x-python",
   "name": "python",
   "nbconvert_exporter": "python",
   "pygments_lexer": "ipython3",
   "version": "3.12.7"
  }
 },
 "nbformat": 4,
 "nbformat_minor": 5
}
