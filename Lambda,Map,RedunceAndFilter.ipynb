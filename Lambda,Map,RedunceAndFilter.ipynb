{
 "cells": [
  {
   "cell_type": "code",
   "execution_count": 1,
   "id": "c6393f89-0eb1-4b93-9e52-deb7d47af9be",
   "metadata": {},
   "outputs": [
    {
     "data": {
      "text/plain": [
       "4"
      ]
     },
     "execution_count": 1,
     "metadata": {},
     "output_type": "execute_result"
    }
   ],
   "source": [
    "def square(x):\n",
    "    return x**2\n",
    "square(2)"
   ]
  },
  {
   "cell_type": "code",
   "execution_count": 3,
   "id": "12c43243-6793-407e-972a-5569fe940a61",
   "metadata": {},
   "outputs": [],
   "source": [
    "sq_lambda = lambda x:x**2"
   ]
  },
  {
   "cell_type": "code",
   "execution_count": 5,
   "id": "cc04c787-d1cb-429c-be0b-bf454531cca9",
   "metadata": {},
   "outputs": [
    {
     "data": {
      "text/plain": [
       "4"
      ]
     },
     "execution_count": 5,
     "metadata": {},
     "output_type": "execute_result"
    }
   ],
   "source": [
    "sq_lambda(2)"
   ]
  },
  {
   "cell_type": "code",
   "execution_count": 7,
   "id": "93326f01-c5d4-4e38-b4aa-da4ecf5f4f05",
   "metadata": {},
   "outputs": [],
   "source": [
    "add = lambda a,b:a+b"
   ]
  },
  {
   "cell_type": "code",
   "execution_count": 9,
   "id": "200afcc7-78d5-4fca-ad49-1539bdd36e93",
   "metadata": {},
   "outputs": [
    {
     "data": {
      "text/plain": [
       "7"
      ]
     },
     "execution_count": 9,
     "metadata": {},
     "output_type": "execute_result"
    }
   ],
   "source": [
    "add(2,5)"
   ]
  },
  {
   "cell_type": "code",
   "execution_count": 11,
   "id": "9ef59759-b23d-4b03-abb5-6f0af764f359",
   "metadata": {},
   "outputs": [
    {
     "data": {
      "text/plain": [
       "True"
      ]
     },
     "execution_count": 11,
     "metadata": {},
     "output_type": "execute_result"
    }
   ],
   "source": [
    "is_even = lambda x : x%2 == 0\n",
    "is_even(4)"
   ]
  },
  {
   "cell_type": "code",
   "execution_count": 13,
   "id": "5a73b729-150a-41e7-bf44-d89ec727cf67",
   "metadata": {},
   "outputs": [
    {
     "data": {
      "text/plain": [
       "4"
      ]
     },
     "execution_count": 13,
     "metadata": {},
     "output_type": "execute_result"
    }
   ],
   "source": [
    "le = lambda x : len(x)\n",
    "le(\"Ajay\")"
   ]
  },
  {
   "cell_type": "code",
   "execution_count": 15,
   "id": "baf18ac8-f97b-4149-9f55-58adf517ff90",
   "metadata": {},
   "outputs": [
    {
     "data": {
      "text/plain": [
       "[0, 1, 1, 2, 3, 5, 8, 13, 21, 34]"
      ]
     },
     "execution_count": 15,
     "metadata": {},
     "output_type": "execute_result"
    }
   ],
   "source": [
    "fib = lambda n:n if n<= 1 else fib(n-1) + fib(n-2)\n",
    "[fib(i) for i in range(10)]"
   ]
  },
  {
   "cell_type": "code",
   "execution_count": 17,
   "id": "55af1790-a74b-424e-a702-1aba7444f170",
   "metadata": {},
   "outputs": [],
   "source": [
    "#factorial of 5\n",
    "def fact_num(n):\n",
    "    if n==0:\n",
    "        return 1\n",
    "    else:\n",
    "        return n*fact_num(n-1)"
   ]
  },
  {
   "cell_type": "code",
   "execution_count": 19,
   "id": "1d27d3f4-47aa-4a6f-a2c8-85c232c171be",
   "metadata": {},
   "outputs": [
    {
     "data": {
      "text/plain": [
       "120"
      ]
     },
     "execution_count": 19,
     "metadata": {},
     "output_type": "execute_result"
    }
   ],
   "source": [
    "fact_num = lambda n: 1 if n==0 else n*fact_num(n-1)\n",
    "fact_num(5)"
   ]
  },
  {
   "cell_type": "code",
   "execution_count": 21,
   "id": "44d29f28-33cb-49eb-9132-9369a9098e19",
   "metadata": {},
   "outputs": [],
   "source": [
    "l = [1,2,3,4,5]\n",
    "def square(l):\n",
    "    sq = []\n",
    "    for i in l:\n",
    "        sq.append(i**2)\n",
    "    return sq"
   ]
  },
  {
   "cell_type": "code",
   "execution_count": 23,
   "id": "13638afa-4521-4821-9391-689b8307b7e0",
   "metadata": {},
   "outputs": [
    {
     "data": {
      "text/plain": [
       "[1, 4, 9, 16, 25]"
      ]
     },
     "execution_count": 23,
     "metadata": {},
     "output_type": "execute_result"
    }
   ],
   "source": [
    "square(l)"
   ]
  },
  {
   "cell_type": "code",
   "execution_count": 25,
   "id": "2e423803-e35c-4353-88a1-ac079e37f58e",
   "metadata": {},
   "outputs": [],
   "source": [
    "def sq(x):\n",
    "    return x**2"
   ]
  },
  {
   "cell_type": "code",
   "execution_count": 27,
   "id": "859e2a54-cdf5-463c-9cb7-776274c72793",
   "metadata": {},
   "outputs": [
    {
     "data": {
      "text/plain": [
       "[1, 2, 3, 4, 5]"
      ]
     },
     "execution_count": 27,
     "metadata": {},
     "output_type": "execute_result"
    }
   ],
   "source": [
    "l"
   ]
  },
  {
   "cell_type": "code",
   "execution_count": 31,
   "id": "382c1b63-bf37-4cd5-86d5-92f9687cb547",
   "metadata": {},
   "outputs": [
    {
     "data": {
      "text/plain": [
       "[1, 4, 9, 16, 25]"
      ]
     },
     "execution_count": 31,
     "metadata": {},
     "output_type": "execute_result"
    }
   ],
   "source": [
    "list(map(sq, l))"
   ]
  },
  {
   "cell_type": "code",
   "execution_count": 33,
   "id": "d0726b69-4412-4aab-a664-85156e7ba2ce",
   "metadata": {},
   "outputs": [
    {
     "data": {
      "text/plain": [
       "[11, 12, 13, 14, 15]"
      ]
     },
     "execution_count": 33,
     "metadata": {},
     "output_type": "execute_result"
    }
   ],
   "source": [
    "def add(x):\n",
    "    return x+10\n",
    "\n",
    "list(map(add, l))"
   ]
  },
  {
   "cell_type": "code",
   "execution_count": 35,
   "id": "ab1c1646-3929-4eb8-8203-470392ca5811",
   "metadata": {},
   "outputs": [
    {
     "data": {
      "text/plain": [
       "[101, 202, 303, 404]"
      ]
     },
     "execution_count": 35,
     "metadata": {},
     "output_type": "execute_result"
    }
   ],
   "source": [
    "l1 = [100,200,300,400]\n",
    "l2 = [1,2,3,4]\n",
    "list(map(lambda x,y : x+y, l1, l2))"
   ]
  },
  {
   "cell_type": "code",
   "execution_count": 37,
   "id": "844b2733-b472-4d5c-b777-cf95e1886384",
   "metadata": {},
   "outputs": [],
   "source": [
    "from functools import reduce"
   ]
  },
  {
   "cell_type": "code",
   "execution_count": 39,
   "id": "e4a98de8-d25a-4652-8f0d-ff9accd8b840",
   "metadata": {},
   "outputs": [
    {
     "data": {
      "text/plain": [
       "25"
      ]
     },
     "execution_count": 39,
     "metadata": {},
     "output_type": "execute_result"
    }
   ],
   "source": [
    "l = [2,1,3,4,4,5,6]\n",
    "reduce(lambda x,y:x+y,l)"
   ]
  },
  {
   "cell_type": "code",
   "execution_count": 41,
   "id": "bd464073-bb64-450d-b783-83bc13b29a54",
   "metadata": {},
   "outputs": [
    {
     "data": {
      "text/plain": [
       "1"
      ]
     },
     "execution_count": 41,
     "metadata": {},
     "output_type": "execute_result"
    }
   ],
   "source": [
    "reduce(lambda x, y:x*y,[1])"
   ]
  },
  {
   "cell_type": "code",
   "execution_count": 43,
   "id": "fd696269-ce28-4ce4-a8a3-a0152c65a3ac",
   "metadata": {},
   "outputs": [
    {
     "data": {
      "text/plain": [
       "2880"
      ]
     },
     "execution_count": 43,
     "metadata": {},
     "output_type": "execute_result"
    }
   ],
   "source": [
    "reduce(lambda x, y:x*y,l)"
   ]
  },
  {
   "cell_type": "code",
   "execution_count": 53,
   "id": "0c197acf-2d67-4bac-9fb4-1188677703d3",
   "metadata": {},
   "outputs": [
    {
     "data": {
      "text/plain": [
       "'Data Science courses'"
      ]
     },
     "execution_count": 53,
     "metadata": {},
     "output_type": "execute_result"
    }
   ],
   "source": [
    "words = [\"Data\",\"Science\",\"courses\"]\n",
    "reduce(lambda x,y:x + \" \" + y,words)"
   ]
  },
  {
   "cell_type": "code",
   "execution_count": 57,
   "id": "4a7dac63-f498-49c0-bf6d-3669081c9544",
   "metadata": {},
   "outputs": [],
   "source": [
    "def factorial(n):\n",
    "    return reduce(lambda x, y: x*y, range(1, n+1))"
   ]
  },
  {
   "cell_type": "code",
   "execution_count": 61,
   "id": "bdae3f4f-b8b4-497a-a9f8-b29f4b7c6340",
   "metadata": {},
   "outputs": [
    {
     "data": {
      "text/plain": [
       "720"
      ]
     },
     "execution_count": 61,
     "metadata": {},
     "output_type": "execute_result"
    }
   ],
   "source": [
    "factorial(6)"
   ]
  },
  {
   "cell_type": "code",
   "execution_count": 63,
   "id": "985f98d1-0b56-46de-99d4-21038e22b3bf",
   "metadata": {},
   "outputs": [
    {
     "data": {
      "text/plain": [
       "[2, 1, 3, 4, 4, 5, 6]"
      ]
     },
     "execution_count": 63,
     "metadata": {},
     "output_type": "execute_result"
    }
   ],
   "source": [
    "l"
   ]
  },
  {
   "cell_type": "code",
   "execution_count": 67,
   "id": "c7787995-3699-4f26-851d-ab01da7d8113",
   "metadata": {},
   "outputs": [
    {
     "data": {
      "text/plain": [
       "[2, 4, 4, 6]"
      ]
     },
     "execution_count": 67,
     "metadata": {},
     "output_type": "execute_result"
    }
   ],
   "source": [
    "list(filter(lambda x:x%2==0, l))"
   ]
  },
  {
   "cell_type": "code",
   "execution_count": 69,
   "id": "374337a9-f3dd-491f-aaa7-ba9e32077955",
   "metadata": {},
   "outputs": [
    {
     "data": {
      "text/plain": [
       "[1, 3, 5]"
      ]
     },
     "execution_count": 69,
     "metadata": {},
     "output_type": "execute_result"
    }
   ],
   "source": [
    "list(filter(lambda x: x%2 != 0,l))"
   ]
  },
  {
   "cell_type": "code",
   "execution_count": null,
   "id": "80960dfc-3f2a-4064-9248-40fc64de3f91",
   "metadata": {},
   "outputs": [],
   "source": []
  }
 ],
 "metadata": {
  "kernelspec": {
   "display_name": "Python 3 (ipykernel)",
   "language": "python",
   "name": "python3"
  },
  "language_info": {
   "codemirror_mode": {
    "name": "ipython",
    "version": 3
   },
   "file_extension": ".py",
   "mimetype": "text/x-python",
   "name": "python",
   "nbconvert_exporter": "python",
   "pygments_lexer": "ipython3",
   "version": "3.12.7"
  }
 },
 "nbformat": 4,
 "nbformat_minor": 5
}
